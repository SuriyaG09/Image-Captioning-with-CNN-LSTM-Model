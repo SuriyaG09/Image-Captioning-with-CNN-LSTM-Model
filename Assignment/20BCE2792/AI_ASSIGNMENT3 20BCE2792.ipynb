{
  "nbformat": 4,
  "nbformat_minor": 0,
  "metadata": {
    "colab": {
      "provenance": [],
      "gpuType": "T4"
    },
    "kernelspec": {
      "name": "python3",
      "display_name": "Python 3"
    },
    "language_info": {
      "name": "python"
    },
    "accelerator": "GPU"
  },
  "cells": [
    {
      "cell_type": "markdown",
      "source": [
        "#Downloading dataset"
      ],
      "metadata": {
        "id": "n5OH4JZUxaRP"
      }
    },
    {
      "cell_type": "code",
      "execution_count": null,
      "metadata": {
        "colab": {
          "base_uri": "https://localhost:8080/"
        },
        "id": "xBPc6EJRuQWp",
        "outputId": "f323d294-ed20-4d14-d85c-3e95a337d785"
      },
      "outputs": [
        {
          "output_type": "stream",
          "name": "stdout",
          "text": [
            "Looking in indexes: https://pypi.org/simple, https://us-python.pkg.dev/colab-wheels/public/simple/\n",
            "Requirement already satisfied: kaggle in /usr/local/lib/python3.10/dist-packages (1.5.13)\n",
            "Requirement already satisfied: six>=1.10 in /usr/local/lib/python3.10/dist-packages (from kaggle) (1.16.0)\n",
            "Requirement already satisfied: certifi in /usr/local/lib/python3.10/dist-packages (from kaggle) (2022.12.7)\n",
            "Requirement already satisfied: python-dateutil in /usr/local/lib/python3.10/dist-packages (from kaggle) (2.8.2)\n",
            "Requirement already satisfied: requests in /usr/local/lib/python3.10/dist-packages (from kaggle) (2.27.1)\n",
            "Requirement already satisfied: tqdm in /usr/local/lib/python3.10/dist-packages (from kaggle) (4.65.0)\n",
            "Requirement already satisfied: python-slugify in /usr/local/lib/python3.10/dist-packages (from kaggle) (8.0.1)\n",
            "Requirement already satisfied: urllib3 in /usr/local/lib/python3.10/dist-packages (from kaggle) (1.26.15)\n",
            "Requirement already satisfied: text-unidecode>=1.3 in /usr/local/lib/python3.10/dist-packages (from python-slugify->kaggle) (1.3)\n",
            "Requirement already satisfied: charset-normalizer~=2.0.0 in /usr/local/lib/python3.10/dist-packages (from requests->kaggle) (2.0.12)\n",
            "Requirement already satisfied: idna<4,>=2.5 in /usr/local/lib/python3.10/dist-packages (from requests->kaggle) (3.4)\n"
          ]
        }
      ],
      "source": [
        "#installing required library\n",
        "\n",
        "! pip install kaggle"
      ]
    },
    {
      "cell_type": "code",
      "source": [
        "#importing drive\n",
        "\n",
        "from google.colab import drive\n",
        "drive.mount('/content/drive')"
      ],
      "metadata": {
        "colab": {
          "base_uri": "https://localhost:8080/"
        },
        "id": "6vk1VoFeuuZw",
        "outputId": "5dc10feb-53d2-4882-fb06-5933ad4b03f9"
      },
      "execution_count": null,
      "outputs": [
        {
          "output_type": "stream",
          "name": "stdout",
          "text": [
            "Mounted at /content/drive\n"
          ]
        }
      ]
    },
    {
      "cell_type": "code",
      "source": [
        "#making the directory\n",
        "\n",
        "! mkdir ~/.kaggle"
      ],
      "metadata": {
        "id": "E1zqUZgeu84S"
      },
      "execution_count": null,
      "outputs": []
    },
    {
      "cell_type": "code",
      "source": [
        "!cp /content/drive/MyDrive/ColabNotebooks/kaggle.json ~/.kaggle/kaggle.json"
      ],
      "metadata": {
        "id": "5ugOWhllvKEi"
      },
      "execution_count": null,
      "outputs": []
    },
    {
      "cell_type": "code",
      "source": [
        "! chmod 600 ~/.kaggle/kaggle.json"
      ],
      "metadata": {
        "id": "QpNi7ts6x_Bf"
      },
      "execution_count": null,
      "outputs": []
    },
    {
      "cell_type": "code",
      "source": [
        "#downloading the dataset\n",
        "\n",
        "! kaggle datasets download akash2907/bird-species-classification"
      ],
      "metadata": {
        "colab": {
          "base_uri": "https://localhost:8080/"
        },
        "id": "HQvO88Nix_mt",
        "outputId": "76530aa7-082a-449d-982f-db0db533a280"
      },
      "execution_count": null,
      "outputs": [
        {
          "output_type": "stream",
          "name": "stdout",
          "text": [
            "Downloading bird-species-classification.zip to /content\n",
            "100% 1.37G/1.37G [01:05<00:00, 23.2MB/s]\n",
            "100% 1.37G/1.37G [01:05<00:00, 22.6MB/s]\n"
          ]
        }
      ]
    },
    {
      "cell_type": "markdown",
      "source": [
        "#Data augmentation"
      ],
      "metadata": {
        "id": "ZaLYxG5M0Ieh"
      }
    },
    {
      "cell_type": "code",
      "source": [
        "#dataset unizipped\n",
        "\n",
        "!unzip '/content/bird-species-classification.zip'"
      ],
      "metadata": {
        "colab": {
          "base_uri": "https://localhost:8080/"
        },
        "id": "YWo1lEWD0OcA",
        "outputId": "5828e167-d51c-4272-eb65-7c683075d6cf"
      },
      "execution_count": null,
      "outputs": [
        {
          "output_type": "stream",
          "name": "stdout",
          "text": [
            "Archive:  /content/bird-species-classification.zip\n",
            "  inflating: test_data/test_data/blasti/DSC_6396.jpg  \n",
            "  inflating: test_data/test_data/blasti/DSC_6397.jpg  \n",
            "  inflating: test_data/test_data/blasti/DSC_6398.jpg  \n",
            "  inflating: test_data/test_data/blasti/DSC_6399.jpg  \n",
            "  inflating: test_data/test_data/blasti/DSC_6400.jpg  \n",
            "  inflating: test_data/test_data/blasti/DSC_6401.jpg  \n",
            "  inflating: test_data/test_data/blasti/DSC_6402.jpg  \n",
            "  inflating: test_data/test_data/blasti/DSC_6403.jpg  \n",
            "  inflating: test_data/test_data/blasti/DSC_6405.jpg  \n",
            "  inflating: test_data/test_data/blasti/DSC_6406.jpg  \n",
            "  inflating: test_data/test_data/blasti/DSC_6407.jpg  \n",
            "  inflating: test_data/test_data/blasti/DSC_6408.jpg  \n",
            "  inflating: test_data/test_data/blasti/DSC_6409.jpg  \n",
            "  inflating: test_data/test_data/blasti/DSC_6410.jpg  \n",
            "  inflating: test_data/test_data/blasti/DSC_6411.jpg  \n",
            "  inflating: test_data/test_data/bonegl/DSC_4587.jpg  \n",
            "  inflating: test_data/test_data/bonegl/DSC_4588.jpg  \n",
            "  inflating: test_data/test_data/bonegl/DSC_4589.jpg  \n",
            "  inflating: test_data/test_data/bonegl/DSC_4590.jpg  \n",
            "  inflating: test_data/test_data/bonegl/DSC_4591.jpg  \n",
            "  inflating: test_data/test_data/bonegl/DSC_4592.jpg  \n",
            "  inflating: test_data/test_data/bonegl/DSC_4593.jpg  \n",
            "  inflating: test_data/test_data/brhkyt/D72_0473.jpg  \n",
            "  inflating: test_data/test_data/brhkyt/D72_0474.jpg  \n",
            "  inflating: test_data/test_data/brhkyt/D72_0475.jpg  \n",
            "  inflating: test_data/test_data/brhkyt/D72_0477.jpg  \n",
            "  inflating: test_data/test_data/brhkyt/D72_0478.jpg  \n",
            "  inflating: test_data/test_data/brhkyt/D72_0479.jpg  \n",
            "  inflating: test_data/test_data/cbrtsh/_D32_10310.jpg  \n",
            "  inflating: test_data/test_data/cbrtsh/_D32_10311.jpg  \n",
            "  inflating: test_data/test_data/cbrtsh/_D32_10312.jpg  \n",
            "  inflating: test_data/test_data/cbrtsh/_D32_10313.jpg  \n",
            "  inflating: test_data/test_data/cbrtsh/_D32_10314.jpg  \n",
            "  inflating: test_data/test_data/cbrtsh/_D32_10317.jpg  \n",
            "  inflating: test_data/test_data/cbrtsh/_D32_10318.jpg  \n",
            "  inflating: test_data/test_data/cmnmyn/DSC_2443.jpg  \n",
            "  inflating: test_data/test_data/cmnmyn/DSC_4681.jpg  \n",
            "  inflating: test_data/test_data/cmnmyn/DSC_5137.jpg  \n",
            "  inflating: test_data/test_data/cmnmyn/DSC_7625.jpg  \n",
            "  inflating: test_data/test_data/cmnmyn/P1050277.jpg  \n",
            "  inflating: test_data/test_data/cmnmyn/_D32_12426.jpg  \n",
            "  inflating: test_data/test_data/cmnmyn/_D32_12427.jpg  \n",
            "  inflating: test_data/test_data/cmnmyn/_D32_12428.jpg  \n",
            "  inflating: test_data/test_data/gretit/11620454726_31a35c26da_o.jpg  \n",
            "  inflating: test_data/test_data/gretit/11776135285_ccf938fa2e_o.jpg  \n",
            "  inflating: test_data/test_data/gretit/11905645146_6a5d4ff9f9_o.jpg  \n",
            "  inflating: test_data/test_data/gretit/8537646712_0b282c4c6a_o.jpg  \n",
            "  inflating: test_data/test_data/gretit/D72_0693.jpg  \n",
            "  inflating: test_data/test_data/gretit/D72_0694.jpg  \n",
            "  inflating: test_data/test_data/gretit/D72_0695.jpg  \n",
            "  inflating: test_data/test_data/hilpig/DSC_6359.jpg  \n",
            "  inflating: test_data/test_data/hilpig/DSC_6362.jpg  \n",
            "  inflating: test_data/test_data/hilpig/DSC_6364.jpg  \n",
            "  inflating: test_data/test_data/hilpig/DSC_6368.jpg  \n",
            "  inflating: test_data/test_data/hilpig/DSC_6403.jpg  \n",
            "  inflating: test_data/test_data/hilpig/DSC_6404.jpg  \n",
            "  inflating: test_data/test_data/hilpig/P1000319.jpg  \n",
            "  inflating: test_data/test_data/hilpig/P1000323.jpg  \n",
            "  inflating: test_data/test_data/hilpig/P1050044.jpg  \n",
            "  inflating: test_data/test_data/hilpig/P1050045.jpg  \n",
            "  inflating: test_data/test_data/himbul/11602064885_3826df4500_o.jpg  \n",
            "  inflating: test_data/test_data/himbul/11619942574_42f23a7b05_o.jpg  \n",
            "  inflating: test_data/test_data/himbul/11620097904_33fa8ee878_o.jpg  \n",
            "  inflating: test_data/test_data/himbul/5857371972_ed4f88b275_o.jpg  \n",
            "  inflating: test_data/test_data/himbul/6154954471_eefe6e00d1_o.jpg  \n",
            "  inflating: test_data/test_data/himbul/D72_0688.jpg  \n",
            "  inflating: test_data/test_data/himbul/D72_0691.jpg  \n",
            "  inflating: test_data/test_data/himbul/DSC08357.jpg  \n",
            "  inflating: test_data/test_data/himbul/DSC_3230.jpg  \n",
            "  inflating: test_data/test_data/himbul/DSC_7439.jpg  \n",
            "  inflating: test_data/test_data/himbul/DSC_7602.jpg  \n",
            "  inflating: test_data/test_data/himbul/P1060368.jpg  \n",
            "  inflating: test_data/test_data/himbul/P1060369.jpg  \n",
            "  inflating: test_data/test_data/himbul/_D32_10242.jpg  \n",
            "  inflating: test_data/test_data/himbul/_D32_10245.jpg  \n",
            "  inflating: test_data/test_data/himbul/_D32_10251.jpg  \n",
            "  inflating: test_data/test_data/himbul/_D32_10319.jpg  \n",
            "  inflating: test_data/test_data/himbul/_D32_10320.jpg  \n",
            "  inflating: test_data/test_data/himbul/_DSC9446.jpg  \n",
            "  inflating: test_data/test_data/himgri/IMG_5384.JPG  \n",
            "  inflating: test_data/test_data/himgri/IMG_5385.JPG  \n",
            "  inflating: test_data/test_data/himgri/IMG_5386.JPG  \n",
            "  inflating: test_data/test_data/himgri/IMG_5387.JPG  \n",
            "  inflating: test_data/test_data/himgri/IMG_5459.JPG  \n",
            "  inflating: test_data/test_data/himgri/IMG_5460.JPG  \n",
            "  inflating: test_data/test_data/himgri/IMG_5487.JPG  \n",
            "  inflating: test_data/test_data/himgri/IMG_5488.JPG  \n",
            "  inflating: test_data/test_data/himgri/IMG_5489.JPG  \n",
            "  inflating: test_data/test_data/himgri/IMG_5490.JPG  \n",
            "  inflating: test_data/test_data/himgri/IMG_5491.JPG  \n",
            "  inflating: test_data/test_data/himgri/IMG_5492.JPG  \n",
            "  inflating: test_data/test_data/himgri/P1020742.jpg  \n",
            "  inflating: test_data/test_data/himgri/P1020743.jpg  \n",
            "  inflating: test_data/test_data/himgri/P1020746.jpg  \n",
            "  inflating: test_data/test_data/himgri/P1020748.jpg  \n",
            "  inflating: test_data/test_data/himgri/P1030055.jpg  \n",
            "  inflating: test_data/test_data/himgri/P1060776.jpg  \n",
            "  inflating: test_data/test_data/himgri/P1060777.jpg  \n",
            "  inflating: test_data/test_data/himgri/P1060778.jpg  \n",
            "  inflating: test_data/test_data/hsparo/100_5573.JPG  \n",
            "  inflating: test_data/test_data/hsparo/100_5585.JPG  \n",
            "  inflating: test_data/test_data/hsparo/100_5586.JPG  \n",
            "  inflating: test_data/test_data/hsparo/100_5742.JPG  \n",
            "  inflating: test_data/test_data/hsparo/12265273154_48e0fefd42_o.jpg  \n",
            "  inflating: test_data/test_data/hsparo/DSC_4521.jpg  \n",
            "  inflating: test_data/test_data/hsparo/DSC_7619.jpg  \n",
            "  inflating: test_data/test_data/hsparo/_DSC_11244.jpg  \n",
            "  inflating: test_data/test_data/hsparo/_DSC_11246.jpg  \n",
            "  inflating: test_data/test_data/indvul/DSC_1263.jpg  \n",
            "  inflating: test_data/test_data/indvul/DSC_1273.jpg  \n",
            "  inflating: test_data/test_data/indvul/DSC_1274.jpg  \n",
            "  inflating: test_data/test_data/indvul/DSC_1275.jpg  \n",
            "  inflating: test_data/test_data/indvul/DSC_1277.jpg  \n",
            "  inflating: test_data/test_data/indvul/_DSC8754.jpg  \n",
            "  inflating: test_data/test_data/indvul/_DSC9520.jpg  \n",
            "  inflating: test_data/test_data/indvul/_DSC9521.jpg  \n",
            "  inflating: test_data/test_data/indvul/_DSC9523.jpg  \n",
            "  inflating: test_data/test_data/jglowl/_D32_10584.jpg  \n",
            "  inflating: test_data/test_data/jglowl/_D32_10587.jpg  \n",
            "  inflating: test_data/test_data/jglowl/_D32_10593.jpg  \n",
            "  inflating: test_data/test_data/jglowl/_D32_13515.jpg  \n",
            "  inflating: test_data/test_data/jglowl/_D32_13516.jpg  \n",
            "  inflating: test_data/test_data/jglowl/_D32_13517.jpg  \n",
            "  inflating: test_data/test_data/lbicrw/100_4917.JPG  \n",
            "  inflating: test_data/test_data/lbicrw/IMG_5538.JPG  \n",
            "  inflating: test_data/test_data/lbicrw/IMG_5541.JPG  \n",
            "  inflating: test_data/test_data/lbicrw/IMG_5543.JPG  \n",
            "  inflating: test_data/test_data/lbicrw/IMG_5544.JPG  \n",
            "  inflating: test_data/test_data/lbicrw/P1030030.jpg  \n",
            "  inflating: test_data/test_data/mgprob/100_5811.JPG  \n",
            "  inflating: test_data/test_data/mgprob/100_5812.JPG  \n",
            "  inflating: test_data/test_data/mgprob/100_5813.JPG  \n",
            "  inflating: test_data/test_data/mgprob/DSC_3233.jpg  \n",
            "  inflating: test_data/test_data/mgprob/_DSC0085.jpg  \n",
            "  inflating: test_data/test_data/mgprob/_DSC0133.jpg  \n",
            "  inflating: test_data/test_data/mgprob/_DSC0135.jpg  \n",
            "  inflating: test_data/test_data/rebimg/100_5756.JPG  \n",
            "  inflating: test_data/test_data/rebimg/100_5757.JPG  \n",
            "  inflating: test_data/test_data/rebimg/100_5758.JPG  \n",
            "  inflating: test_data/test_data/rebimg/100_5759.JPG  \n",
            "  inflating: test_data/test_data/rebimg/100_5760.JPG  \n",
            "  inflating: test_data/test_data/rebimg/13009302395_5d88a9d62b_o.jpg  \n",
            "  inflating: test_data/test_data/rebimg/13009315305_f1cbfb6767_o.jpg  \n",
            "  inflating: test_data/test_data/rebimg/13009451823_8eb502581f_o.jpg  \n",
            "  inflating: test_data/test_data/rebimg/DSC_7148.jpg  \n",
            "  inflating: test_data/test_data/rebimg/IMG_5251.JPG  \n",
            "  inflating: test_data/test_data/rebimg/IMG_5252.JPG  \n",
            "  inflating: test_data/test_data/wcrsrt/100_4462.JPG  \n",
            "  inflating: test_data/test_data/wcrsrt/100_4463.JPG  \n",
            "  inflating: test_data/test_data/wcrsrt/100_4464.JPG  \n",
            "  inflating: test_data/test_data/wcrsrt/100_4466.JPG  \n",
            "  inflating: test_data/test_data/wcrsrt/100_4467.JPG  \n",
            "  inflating: test_data/test_data/wcrsrt/100_4468.JPG  \n",
            "  inflating: test_data/test_data/wcrsrt/100_5103.JPG  \n",
            "  inflating: test_data/test_data/wcrsrt/100_5105.JPG  \n",
            "  inflating: test_data/test_data/wcrsrt/11382677585_ef6570a041_o.jpg  \n",
            "  inflating: test_data/test_data/wcrsrt/11382746854_7ce73793b3_o.jpg  \n",
            "  inflating: train_data/train_data/blasti/DSC_6382.jpg  \n",
            "  inflating: train_data/train_data/blasti/DSC_6383.jpg  \n",
            "  inflating: train_data/train_data/blasti/DSC_6384-2.jpg  \n",
            "  inflating: train_data/train_data/blasti/DSC_6384.jpg  \n",
            "  inflating: train_data/train_data/blasti/DSC_6385.jpg  \n",
            "  inflating: train_data/train_data/blasti/DSC_6386.jpg  \n",
            "  inflating: train_data/train_data/blasti/DSC_6387.jpg  \n",
            "  inflating: train_data/train_data/blasti/DSC_6388.jpg  \n",
            "  inflating: train_data/train_data/blasti/DSC_6389.jpg  \n",
            "  inflating: train_data/train_data/blasti/DSC_6390.jpg  \n",
            "  inflating: train_data/train_data/blasti/DSC_6391.jpg  \n",
            "  inflating: train_data/train_data/blasti/DSC_6392.jpg  \n",
            "  inflating: train_data/train_data/blasti/DSC_6393.jpg  \n",
            "  inflating: train_data/train_data/blasti/DSC_6394.jpg  \n",
            "  inflating: train_data/train_data/blasti/DSC_6395.jpg  \n",
            "  inflating: train_data/train_data/bonegl/DSC_4570.jpg  \n",
            "  inflating: train_data/train_data/bonegl/DSC_4571.jpg  \n",
            "  inflating: train_data/train_data/bonegl/DSC_4583.jpg  \n",
            "  inflating: train_data/train_data/bonegl/DSC_4584.jpg  \n",
            "  inflating: train_data/train_data/bonegl/DSC_4585.jpg  \n",
            "  inflating: train_data/train_data/bonegl/DSC_4586.jpg  \n",
            "  inflating: train_data/train_data/brhkyt/D72_0400.jpg  \n",
            "  inflating: train_data/train_data/brhkyt/D72_0401.jpg  \n",
            "  inflating: train_data/train_data/brhkyt/D72_0470.jpg  \n",
            "  inflating: train_data/train_data/brhkyt/D72_0471.jpg  \n",
            "  inflating: train_data/train_data/brhkyt/D72_0472.jpg  \n",
            "  inflating: train_data/train_data/cbrtsh/100_5097.JPG  \n",
            "  inflating: train_data/train_data/cbrtsh/_D32_10303.jpg  \n",
            "  inflating: train_data/train_data/cbrtsh/_D32_10305.jpg  \n",
            "  inflating: train_data/train_data/cbrtsh/_D32_10306.jpg  \n",
            "  inflating: train_data/train_data/cbrtsh/_D32_10307.jpg  \n",
            "  inflating: train_data/train_data/cbrtsh/_D32_10308.jpg  \n",
            "  inflating: train_data/train_data/cbrtsh/_D32_10309.jpg  \n",
            "  inflating: train_data/train_data/cmnmyn/100_5763.JPG  \n",
            "  inflating: train_data/train_data/cmnmyn/5866682091_870ccc946c_o.jpg  \n",
            "  inflating: train_data/train_data/cmnmyn/6154956165_64266b8b53_o.jpg  \n",
            "  inflating: train_data/train_data/cmnmyn/DSCN5784.jpg  \n",
            "  inflating: train_data/train_data/cmnmyn/DSCN5787.jpg  \n",
            "  inflating: train_data/train_data/cmnmyn/DSCN5790.jpg  \n",
            "  inflating: train_data/train_data/cmnmyn/DSCN5791.jpg  \n",
            "  inflating: train_data/train_data/gretit/100_5042.JPG  \n",
            "  inflating: train_data/train_data/gretit/100_5043.JPG  \n",
            "  inflating: train_data/train_data/gretit/100_5044.JPG  \n",
            "  inflating: train_data/train_data/gretit/100_5045.JPG  \n",
            "  inflating: train_data/train_data/gretit/100_5046.JPG  \n",
            "  inflating: train_data/train_data/gretit/100_5047.JPG  \n",
            "  inflating: train_data/train_data/hilpig/DSC_6272.jpg  \n",
            "  inflating: train_data/train_data/hilpig/DSC_6273.jpg  \n",
            "  inflating: train_data/train_data/hilpig/DSC_6274.jpg  \n",
            "  inflating: train_data/train_data/hilpig/DSC_6275.jpg  \n",
            "  inflating: train_data/train_data/hilpig/DSC_6350.jpg  \n",
            "  inflating: train_data/train_data/hilpig/DSC_6351.jpg  \n",
            "  inflating: train_data/train_data/hilpig/DSC_6352.jpg  \n",
            "  inflating: train_data/train_data/hilpig/DSC_6353.jpg  \n",
            "  inflating: train_data/train_data/hilpig/DSC_6354.jpg  \n",
            "  inflating: train_data/train_data/hilpig/DSC_6358.jpg  \n",
            "  inflating: train_data/train_data/himbul/100_5028.JPG  \n",
            "  inflating: train_data/train_data/himbul/100_5029.JPG  \n",
            "  inflating: train_data/train_data/himbul/100_5096.JPG  \n",
            "  inflating: train_data/train_data/himbul/100_5099.JPG  \n",
            "  inflating: train_data/train_data/himbul/100_5100.JPG  \n",
            "  inflating: train_data/train_data/himbul/100_5102.JPG  \n",
            "  inflating: train_data/train_data/himbul/100_5110.JPG  \n",
            "  inflating: train_data/train_data/himbul/100_5112.JPG  \n",
            "  inflating: train_data/train_data/himbul/100_5113.JPG  \n",
            "  inflating: train_data/train_data/himbul/100_5159.JPG  \n",
            "  inflating: train_data/train_data/himbul/100_5160.JPG  \n",
            "  inflating: train_data/train_data/himbul/100_5161.JPG  \n",
            "  inflating: train_data/train_data/himbul/100_5162.JPG  \n",
            "  inflating: train_data/train_data/himbul/10774570945_9bc537c255_o.jpg  \n",
            "  inflating: train_data/train_data/himbul/11383838134_96e891a316_o.jpg  \n",
            "  inflating: train_data/train_data/himbul/11383857084_cdd7514746_o.jpg  \n",
            "  inflating: train_data/train_data/himbul/11387473723_464965720a_o.jpg  \n",
            "  inflating: train_data/train_data/himbul/9007817678_24db19fc63_o.jpg  \n",
            "  inflating: train_data/train_data/himgri/12029790563_2fe54a68aa_o.jpg  \n",
            "  inflating: train_data/train_data/himgri/12029822653_1185544e7b_o.jpg  \n",
            "  inflating: train_data/train_data/himgri/12029933015_802428e277_o.jpg  \n",
            "  inflating: train_data/train_data/himgri/12029987304_031b7a2d53_o.jpg  \n",
            "  inflating: train_data/train_data/himgri/12030165813_f5341e8ed0_o.jpg  \n",
            "  inflating: train_data/train_data/himgri/12030221124_1baaf905d1_o.jpg  \n",
            "  inflating: train_data/train_data/himgri/12030269234_1c3f5a8e8c_o.jpg  \n",
            "  inflating: train_data/train_data/himgri/12152037683_13e1556c41_o.jpg  \n",
            "  inflating: train_data/train_data/himgri/12152178844_dc29e3126f_o.jpg  \n",
            "  inflating: train_data/train_data/himgri/12152510436_23b62fed3b_o.jpg  \n",
            "  inflating: train_data/train_data/himgri/12265055185_138e3c7c70_o.jpg  \n",
            "  inflating: train_data/train_data/himgri/12265498144_d2e80faa3b_o.jpg  \n",
            "  inflating: train_data/train_data/himgri/12265561764_4814951031_o.jpg  \n",
            "  inflating: train_data/train_data/himgri/12265582724_61cb64e73a_o.jpg  \n",
            "  inflating: train_data/train_data/himgri/12265738206_2b9b25cc8a_o.jpg  \n",
            "  inflating: train_data/train_data/himgri/12265747116_d4b4fa3741_o.jpg  \n",
            "  inflating: train_data/train_data/himgri/12266053036_fcab92d8e8_o.jpg  \n",
            "  inflating: train_data/train_data/himgri/12266077576_1d7143aaf7_o.jpg  \n",
            "  inflating: train_data/train_data/himgri/12266086526_82cd337667_o.jpg  \n",
            "  inflating: train_data/train_data/himgri/IMG_5463.JPG  \n",
            "  inflating: train_data/train_data/hsparo/100_4757.JPG  \n",
            "  inflating: train_data/train_data/hsparo/100_4758.JPG  \n",
            "  inflating: train_data/train_data/hsparo/100_5039.JPG  \n",
            "  inflating: train_data/train_data/hsparo/100_5040.JPG  \n",
            "  inflating: train_data/train_data/hsparo/100_5041.JPG  \n",
            "  inflating: train_data/train_data/hsparo/100_5048.JPG  \n",
            "  inflating: train_data/train_data/hsparo/100_5049.JPG  \n",
            "  inflating: train_data/train_data/hsparo/100_5050.JPG  \n",
            "  inflating: train_data/train_data/hsparo/100_5572.JPG  \n",
            "  inflating: train_data/train_data/indvul/DSC_0502.jpg  \n",
            "  inflating: train_data/train_data/indvul/DSC_0571e.jpg  \n",
            "  inflating: train_data/train_data/indvul/DSC_0572.jpg  \n",
            "  inflating: train_data/train_data/indvul/DSC_0576e.jpg  \n",
            "  inflating: train_data/train_data/indvul/DSC_0582.jpg  \n",
            "  inflating: train_data/train_data/indvul/DSC_0583e.jpg  \n",
            "  inflating: train_data/train_data/indvul/DSC_0584.jpg  \n",
            "  inflating: train_data/train_data/indvul/DSC_0616c.jpg  \n",
            "  inflating: train_data/train_data/indvul/DSC_0617.jpg  \n",
            "  inflating: train_data/train_data/jglowl/12152151476_7a1524aabb_o.jpg  \n",
            "  inflating: train_data/train_data/jglowl/DSC01335.jpg  \n",
            "  inflating: train_data/train_data/jglowl/DSC01336.jpg  \n",
            "  inflating: train_data/train_data/jglowl/_D32_10285.jpg  \n",
            "  inflating: train_data/train_data/jglowl/_D32_10578.jpg  \n",
            "  inflating: train_data/train_data/jglowl/_D32_10583.jpg  \n",
            "  inflating: train_data/train_data/lbicrw/100_4037.JPG  \n",
            "  inflating: train_data/train_data/lbicrw/100_4912.JPG  \n",
            "  inflating: train_data/train_data/lbicrw/100_4913.JPG  \n",
            "  inflating: train_data/train_data/lbicrw/100_4914.JPG  \n",
            "  inflating: train_data/train_data/lbicrw/100_4915.JPG  \n",
            "  inflating: train_data/train_data/lbicrw/100_4916.JPG  \n",
            "  inflating: train_data/train_data/mgprob/100_5587.JPG  \n",
            "  inflating: train_data/train_data/mgprob/100_5588.JPG  \n",
            "  inflating: train_data/train_data/mgprob/100_5589.JPG  \n",
            "  inflating: train_data/train_data/mgprob/100_5590.JPG  \n",
            "  inflating: train_data/train_data/mgprob/100_5592.JPG  \n",
            "  inflating: train_data/train_data/mgprob/100_5762.JPG  \n",
            "  inflating: train_data/train_data/rebimg/100_5744.JPG  \n",
            "  inflating: train_data/train_data/rebimg/100_5745.JPG  \n",
            "  inflating: train_data/train_data/rebimg/100_5746.JPG  \n",
            "  inflating: train_data/train_data/rebimg/100_5748.JPG  \n",
            "  inflating: train_data/train_data/rebimg/100_5749.JPG  \n",
            "  inflating: train_data/train_data/rebimg/100_5750.JPG  \n",
            "  inflating: train_data/train_data/rebimg/100_5751.JPG  \n",
            "  inflating: train_data/train_data/rebimg/100_5752.JPG  \n",
            "  inflating: train_data/train_data/rebimg/100_5754.JPG  \n",
            "  inflating: train_data/train_data/rebimg/100_5755.JPG  \n",
            "  inflating: train_data/train_data/wcrsrt/100_4452.JPG  \n",
            "  inflating: train_data/train_data/wcrsrt/100_4453.JPG  \n",
            "  inflating: train_data/train_data/wcrsrt/100_4454.JPG  \n",
            "  inflating: train_data/train_data/wcrsrt/100_4455.JPG  \n",
            "  inflating: train_data/train_data/wcrsrt/100_4456.JPG  \n",
            "  inflating: train_data/train_data/wcrsrt/100_4457.JPG  \n",
            "  inflating: train_data/train_data/wcrsrt/100_4458.JPG  \n",
            "  inflating: train_data/train_data/wcrsrt/100_4459.JPG  \n",
            "  inflating: train_data/train_data/wcrsrt/100_4460.JPG  \n",
            "  inflating: train_data/train_data/wcrsrt/100_4461.JPG  \n"
          ]
        }
      ]
    },
    {
      "cell_type": "code",
      "source": [
        "#preprocessing the image\n",
        "\n",
        "from tensorflow.keras.preprocessing.image import ImageDataGenerator\n",
        "\n",
        "train_gen=ImageDataGenerator(rescale=(1./255), horizontal_flip=True, shear_range=0.2)\n",
        "test_gen=ImageDataGenerator(rescale=(1./255))"
      ],
      "metadata": {
        "id": "yzPeUSHg0ai0"
      },
      "execution_count": null,
      "outputs": []
    },
    {
      "cell_type": "code",
      "source": [
        "train=train_gen.flow_from_directory('/content/train_data/train_data', target_size=(120, 120), class_mode='categorical', batch_size=8) \n",
        "test=test_gen.flow_from_directory('/content/test_data/test_data', target_size=(120, 120), class_mode='categorical', batch_size=8)"
      ],
      "metadata": {
        "colab": {
          "base_uri": "https://localhost:8080/"
        },
        "id": "fkQ6ACVd0mBx",
        "outputId": "3ab4723a-458e-4e27-a5f9-9b0bf377c090"
      },
      "execution_count": null,
      "outputs": [
        {
          "output_type": "stream",
          "name": "stdout",
          "text": [
            "Found 150 images belonging to 16 classes.\n",
            "Found 157 images belonging to 16 classes.\n"
          ]
        }
      ]
    },
    {
      "cell_type": "code",
      "source": [
        "train.class_indices"
      ],
      "metadata": {
        "colab": {
          "base_uri": "https://localhost:8080/"
        },
        "id": "nPGSRlXL0-TU",
        "outputId": "42862813-088f-414d-929b-c438ddf846f7"
      },
      "execution_count": null,
      "outputs": [
        {
          "output_type": "execute_result",
          "data": {
            "text/plain": [
              "{'blasti': 0,\n",
              " 'bonegl': 1,\n",
              " 'brhkyt': 2,\n",
              " 'cbrtsh': 3,\n",
              " 'cmnmyn': 4,\n",
              " 'gretit': 5,\n",
              " 'hilpig': 6,\n",
              " 'himbul': 7,\n",
              " 'himgri': 8,\n",
              " 'hsparo': 9,\n",
              " 'indvul': 10,\n",
              " 'jglowl': 11,\n",
              " 'lbicrw': 12,\n",
              " 'mgprob': 13,\n",
              " 'rebimg': 14,\n",
              " 'wcrsrt': 15}"
            ]
          },
          "metadata": {},
          "execution_count": 11
        }
      ]
    },
    {
      "cell_type": "markdown",
      "source": [
        "#Building the model"
      ],
      "metadata": {
        "id": "SzvzsHoW1qtM"
      }
    },
    {
      "cell_type": "code",
      "source": [
        "from tensorflow.keras.layers import Convolution2D, MaxPooling2D, Flatten, Dense \n",
        "from tensorflow.keras.models import Sequential"
      ],
      "metadata": {
        "id": "BgJdHJjh1YVL"
      },
      "execution_count": null,
      "outputs": []
    },
    {
      "cell_type": "code",
      "source": [
        "#building the model\n",
        "\n",
        "model=Sequential()\n",
        "\n",
        "model.add(Convolution2D(20, (3, 3), activation='relu', input_shape=(120, 120, 3))) \n",
        "\n",
        "model.add(MaxPooling2D(pool_size=(2, 2))) \n",
        "\n",
        "model.add(Flatten())\n",
        "\n",
        "model.add(Dense(45, activation='relu')) \n",
        "model.add(Dense(16, activation='softmax'))"
      ],
      "metadata": {
        "id": "Ewqda4Z22RDR"
      },
      "execution_count": null,
      "outputs": []
    },
    {
      "cell_type": "code",
      "source": [
        "#compiling the model\n",
        "\n",
        "model.compile(optimizer='adam', loss='categorical_crossentropy', metrics=['accuracy'])"
      ],
      "metadata": {
        "id": "wTRK9J6S2Zx1"
      },
      "execution_count": null,
      "outputs": []
    },
    {
      "cell_type": "code",
      "source": [
        "#fitting the model\n",
        "\n",
        "model.fit(train, batch_size=8, validation_data=test, epochs=30)"
      ],
      "metadata": {
        "colab": {
          "base_uri": "https://localhost:8080/"
        },
        "id": "QSXiBtDB2Zuc",
        "outputId": "cddb92f8-d7aa-4d6b-c0ea-af4c338f9792"
      },
      "execution_count": null,
      "outputs": [
        {
          "output_type": "stream",
          "name": "stdout",
          "text": [
            "Epoch 1/30\n",
            "19/19 [==============================] - 109s 5s/step - loss: 4.4263 - accuracy: 0.0800 - val_loss: 2.7577 - val_accuracy: 0.1783\n",
            "Epoch 2/30\n",
            "19/19 [==============================] - 101s 6s/step - loss: 2.7595 - accuracy: 0.1800 - val_loss: 2.7631 - val_accuracy: 0.1338\n",
            "Epoch 3/30\n",
            "19/19 [==============================] - 100s 5s/step - loss: 2.7077 - accuracy: 0.2000 - val_loss: 2.7315 - val_accuracy: 0.1783\n",
            "Epoch 4/30\n",
            "19/19 [==============================] - 100s 5s/step - loss: 2.6597 - accuracy: 0.1933 - val_loss: 2.7349 - val_accuracy: 0.1783\n",
            "Epoch 5/30\n",
            "19/19 [==============================] - 100s 5s/step - loss: 2.6613 - accuracy: 0.1933 - val_loss: 2.7501 - val_accuracy: 0.1401\n",
            "Epoch 6/30\n",
            "19/19 [==============================] - 104s 6s/step - loss: 2.5933 - accuracy: 0.2000 - val_loss: 2.7245 - val_accuracy: 0.1783\n",
            "Epoch 7/30\n",
            "19/19 [==============================] - 101s 5s/step - loss: 2.6209 - accuracy: 0.2000 - val_loss: 2.6900 - val_accuracy: 0.1847\n",
            "Epoch 8/30\n",
            "19/19 [==============================] - 100s 5s/step - loss: 2.5749 - accuracy: 0.1933 - val_loss: 2.7078 - val_accuracy: 0.1783\n",
            "Epoch 9/30\n",
            "19/19 [==============================] - 101s 6s/step - loss: 2.5472 - accuracy: 0.2000 - val_loss: 2.7312 - val_accuracy: 0.1656\n",
            "Epoch 10/30\n",
            "19/19 [==============================] - 101s 5s/step - loss: 2.5476 - accuracy: 0.1933 - val_loss: 2.7285 - val_accuracy: 0.1592\n",
            "Epoch 11/30\n",
            "19/19 [==============================] - 102s 6s/step - loss: 2.5318 - accuracy: 0.1933 - val_loss: 2.7357 - val_accuracy: 0.1465\n",
            "Epoch 12/30\n",
            "19/19 [==============================] - 97s 5s/step - loss: 2.5061 - accuracy: 0.1733 - val_loss: 2.7419 - val_accuracy: 0.1338\n",
            "Epoch 13/30\n",
            "19/19 [==============================] - 101s 6s/step - loss: 2.5172 - accuracy: 0.2067 - val_loss: 2.6959 - val_accuracy: 0.1720\n",
            "Epoch 14/30\n",
            "19/19 [==============================] - 125s 7s/step - loss: 2.4973 - accuracy: 0.2067 - val_loss: 2.6831 - val_accuracy: 0.1720\n",
            "Epoch 15/30\n",
            "19/19 [==============================] - 100s 5s/step - loss: 2.4732 - accuracy: 0.1933 - val_loss: 2.7031 - val_accuracy: 0.1592\n",
            "Epoch 16/30\n",
            "19/19 [==============================] - 98s 5s/step - loss: 2.4701 - accuracy: 0.1933 - val_loss: 2.7096 - val_accuracy: 0.1592\n",
            "Epoch 17/30\n",
            "19/19 [==============================] - 99s 5s/step - loss: 2.4596 - accuracy: 0.2067 - val_loss: 2.6960 - val_accuracy: 0.1720\n",
            "Epoch 18/30\n",
            "19/19 [==============================] - 123s 7s/step - loss: 2.4594 - accuracy: 0.1933 - val_loss: 2.7208 - val_accuracy: 0.1465\n",
            "Epoch 19/30\n",
            "19/19 [==============================] - 97s 5s/step - loss: 2.4417 - accuracy: 0.2133 - val_loss: 2.6953 - val_accuracy: 0.1656\n",
            "Epoch 20/30\n",
            "19/19 [==============================] - 124s 7s/step - loss: 2.4269 - accuracy: 0.2067 - val_loss: 2.7100 - val_accuracy: 0.1720\n",
            "Epoch 21/30\n",
            "19/19 [==============================] - 96s 5s/step - loss: 2.4222 - accuracy: 0.1933 - val_loss: 2.6933 - val_accuracy: 0.1656\n",
            "Epoch 22/30\n",
            "19/19 [==============================] - 94s 5s/step - loss: 2.4049 - accuracy: 0.2000 - val_loss: 2.6866 - val_accuracy: 0.1656\n",
            "Epoch 23/30\n",
            "19/19 [==============================] - 96s 5s/step - loss: 2.4055 - accuracy: 0.1933 - val_loss: 2.7074 - val_accuracy: 0.1401\n",
            "Epoch 24/30\n",
            "19/19 [==============================] - 97s 5s/step - loss: 2.4369 - accuracy: 0.2133 - val_loss: 2.7289 - val_accuracy: 0.1338\n",
            "Epoch 25/30\n",
            "19/19 [==============================] - 100s 5s/step - loss: 2.5513 - accuracy: 0.2200 - val_loss: 2.7485 - val_accuracy: 0.1720\n",
            "Epoch 26/30\n",
            "19/19 [==============================] - 97s 5s/step - loss: 2.5208 - accuracy: 0.2067 - val_loss: 2.6595 - val_accuracy: 0.1656\n",
            "Epoch 27/30\n",
            "19/19 [==============================] - 100s 5s/step - loss: 2.4284 - accuracy: 0.2000 - val_loss: 2.7115 - val_accuracy: 0.1338\n",
            "Epoch 28/30\n",
            "19/19 [==============================] - 96s 5s/step - loss: 2.4147 - accuracy: 0.2067 - val_loss: 2.6524 - val_accuracy: 0.1783\n",
            "Epoch 29/30\n",
            "19/19 [==============================] - 123s 7s/step - loss: 2.3610 - accuracy: 0.2067 - val_loss: 2.6671 - val_accuracy: 0.1783\n",
            "Epoch 30/30\n",
            "19/19 [==============================] - 98s 5s/step - loss: 2.3723 - accuracy: 0.2133 - val_loss: 2.6685 - val_accuracy: 0.1720\n"
          ]
        },
        {
          "output_type": "execute_result",
          "data": {
            "text/plain": [
              "<keras.callbacks.History at 0x7f6e913faaa0>"
            ]
          },
          "metadata": {},
          "execution_count": 15
        }
      ]
    },
    {
      "cell_type": "markdown",
      "source": [
        "#Testing phase"
      ],
      "metadata": {
        "id": "Bqa8-bhg7UI6"
      }
    },
    {
      "cell_type": "code",
      "source": [
        "import numpy as np\n",
        "from tensorflow.keras.preprocessing import image"
      ],
      "metadata": {
        "id": "PfOYrjsF75IL"
      },
      "execution_count": null,
      "outputs": []
    },
    {
      "cell_type": "code",
      "source": [
        "#testing with class himbul\n",
        "\n",
        "img1=image.load_img('/content/test_data/test_data/himbul/D72_0688.jpg', target_size=(120, 120)) \n",
        "img1=image.img_to_array(img1)\n",
        "img1=np.expand_dims(img1, axis=0) \n",
        "pred1=np.argmax(model.predict(img1))\n",
        "print(pred1)\n",
        "\n",
        "#list\n",
        "output=['blasti',\n",
        " 'bonegl',\n",
        " 'brhkyt',\n",
        " 'cbrtsh',\n",
        " 'cmnmyn',\n",
        " 'gretit',\n",
        " 'hilpig',\n",
        " 'himbul',\n",
        " 'himgri',\n",
        " 'hsparo',\n",
        " 'indvul',\n",
        " 'jglowl',\n",
        " 'lbicrw',\n",
        " 'mgprob',\n",
        " 'rebimg',\n",
        " 'wcrsrt']\n",
        "#list indexing\n",
        "print(output[pred1])"
      ],
      "metadata": {
        "colab": {
          "base_uri": "https://localhost:8080/"
        },
        "id": "T0dx0EAi7WOY",
        "outputId": "c302999d-581c-49d6-b306-d4dfb2b19e34"
      },
      "execution_count": null,
      "outputs": [
        {
          "output_type": "stream",
          "name": "stdout",
          "text": [
            "1/1 [==============================] - 0s 128ms/step\n",
            "8\n",
            "himgri\n"
          ]
        }
      ]
    },
    {
      "cell_type": "markdown",
      "source": [
        "#Model tuning"
      ],
      "metadata": {
        "id": "-oHS1YJb8g8Y"
      }
    },
    {
      "cell_type": "code",
      "source": [
        "#tuning the model with multiple feature extraction layers\n",
        "\n",
        "model=Sequential()\n",
        "\n",
        "model.add(Convolution2D(12, (3, 3), activation='relu', input_shape=(120, 120, 3))) \n",
        "\n",
        "model.add(MaxPooling2D(pool_size=(2, 2))) \n",
        "\n",
        "model.add(Convolution2D(24, (3, 3), activation='relu'))\n",
        "model.add(MaxPooling2D(pool_size=(2, 2)))\n",
        "model.add(Convolution2D(36, (3, 3), activation='relu'))\n",
        "model.add(MaxPooling2D(pool_size=(2, 2)))\n",
        "\n",
        "model.add(Flatten())\n",
        "\n",
        "model.add(Dense(62, activation='relu')) \n",
        "model.add(Dense(32, activation='relu')) \n",
        "model.add(Dense(16, activation='relu')) \n",
        "model.add(Dense(16, activation='softmax'))"
      ],
      "metadata": {
        "id": "9xqaoabk8kBA"
      },
      "execution_count": null,
      "outputs": []
    },
    {
      "cell_type": "code",
      "source": [
        "#summary of the model\n",
        "\n",
        "model.summary()"
      ],
      "metadata": {
        "colab": {
          "base_uri": "https://localhost:8080/"
        },
        "id": "Pe2oZANw8uO5",
        "outputId": "c78ffb27-cac6-49f4-e59d-69a507c0fc15"
      },
      "execution_count": null,
      "outputs": [
        {
          "output_type": "stream",
          "name": "stdout",
          "text": [
            "Model: \"sequential_1\"\n",
            "_________________________________________________________________\n",
            " Layer (type)                Output Shape              Param #   \n",
            "=================================================================\n",
            " conv2d_1 (Conv2D)           (None, 118, 118, 12)      336       \n",
            "                                                                 \n",
            " max_pooling2d_1 (MaxPooling  (None, 59, 59, 12)       0         \n",
            " 2D)                                                             \n",
            "                                                                 \n",
            " conv2d_2 (Conv2D)           (None, 57, 57, 24)        2616      \n",
            "                                                                 \n",
            " max_pooling2d_2 (MaxPooling  (None, 28, 28, 24)       0         \n",
            " 2D)                                                             \n",
            "                                                                 \n",
            " conv2d_3 (Conv2D)           (None, 26, 26, 36)        7812      \n",
            "                                                                 \n",
            " max_pooling2d_3 (MaxPooling  (None, 13, 13, 36)       0         \n",
            " 2D)                                                             \n",
            "                                                                 \n",
            " flatten_1 (Flatten)         (None, 6084)              0         \n",
            "                                                                 \n",
            " dense_2 (Dense)             (None, 62)                377270    \n",
            "                                                                 \n",
            " dense_3 (Dense)             (None, 32)                2016      \n",
            "                                                                 \n",
            " dense_4 (Dense)             (None, 16)                528       \n",
            "                                                                 \n",
            " dense_5 (Dense)             (None, 16)                272       \n",
            "                                                                 \n",
            "=================================================================\n",
            "Total params: 390,850\n",
            "Trainable params: 390,850\n",
            "Non-trainable params: 0\n",
            "_________________________________________________________________\n"
          ]
        }
      ]
    },
    {
      "cell_type": "code",
      "source": [
        "#recompiling the model\n",
        "\n",
        "model.compile(optimizer='adam', loss='categorical_crossentropy', metrics=['accuracy'])"
      ],
      "metadata": {
        "id": "WmQ1Pq-e8yoZ"
      },
      "execution_count": null,
      "outputs": []
    },
    {
      "cell_type": "code",
      "source": [
        "#fitting the model with 50 epochs\n",
        "\n",
        "model.fit(train, batch_size=8, validation_data=test, epochs=50)"
      ],
      "metadata": {
        "id": "yUFi7Br-81y7",
        "colab": {
          "base_uri": "https://localhost:8080/"
        },
        "outputId": "76fa9ee3-7a7f-4fa4-e07c-83c409c912ed"
      },
      "execution_count": null,
      "outputs": [
        {
          "output_type": "stream",
          "name": "stdout",
          "text": [
            "Epoch 1/50\n",
            "19/19 [==============================] - 110s 6s/step - loss: 2.7713 - accuracy: 0.0467 - val_loss: 2.7326 - val_accuracy: 0.0573\n",
            "Epoch 2/50\n",
            "19/19 [==============================] - 101s 5s/step - loss: 2.7374 - accuracy: 0.1267 - val_loss: 2.7612 - val_accuracy: 0.1274\n",
            "Epoch 3/50\n",
            "19/19 [==============================] - 100s 5s/step - loss: 2.6662 - accuracy: 0.1333 - val_loss: 2.8190 - val_accuracy: 0.1274\n",
            "Epoch 4/50\n",
            "19/19 [==============================] - 100s 6s/step - loss: 2.5774 - accuracy: 0.1333 - val_loss: 2.8026 - val_accuracy: 0.1274\n",
            "Epoch 5/50\n",
            "19/19 [==============================] - 102s 6s/step - loss: 2.5309 - accuracy: 0.1400 - val_loss: 2.8870 - val_accuracy: 0.1465\n",
            "Epoch 6/50\n",
            "19/19 [==============================] - 101s 6s/step - loss: 2.4582 - accuracy: 0.1933 - val_loss: 2.8244 - val_accuracy: 0.1146\n",
            "Epoch 7/50\n",
            "19/19 [==============================] - 100s 5s/step - loss: 2.4643 - accuracy: 0.1800 - val_loss: 2.6804 - val_accuracy: 0.1401\n",
            "Epoch 8/50\n",
            "19/19 [==============================] - 101s 5s/step - loss: 2.3393 - accuracy: 0.2400 - val_loss: 2.8599 - val_accuracy: 0.1656\n",
            "Epoch 9/50\n",
            "19/19 [==============================] - 100s 5s/step - loss: 2.2668 - accuracy: 0.2867 - val_loss: 2.7604 - val_accuracy: 0.1529\n",
            "Epoch 10/50\n",
            "19/19 [==============================] - 100s 5s/step - loss: 2.1258 - accuracy: 0.3133 - val_loss: 3.1417 - val_accuracy: 0.2229\n",
            "Epoch 11/50\n",
            "19/19 [==============================] - 101s 6s/step - loss: 2.0880 - accuracy: 0.3533 - val_loss: 2.8291 - val_accuracy: 0.1720\n",
            "Epoch 12/50\n",
            "19/19 [==============================] - 99s 5s/step - loss: 2.0419 - accuracy: 0.3267 - val_loss: 2.6424 - val_accuracy: 0.2803\n",
            "Epoch 13/50\n",
            "19/19 [==============================] - 99s 5s/step - loss: 1.9414 - accuracy: 0.3600 - val_loss: 3.0193 - val_accuracy: 0.1847\n",
            "Epoch 14/50\n",
            "19/19 [==============================] - 121s 7s/step - loss: 1.9880 - accuracy: 0.3200 - val_loss: 2.7763 - val_accuracy: 0.2166\n",
            "Epoch 15/50\n",
            "19/19 [==============================] - 120s 7s/step - loss: 1.7493 - accuracy: 0.4067 - val_loss: 3.1925 - val_accuracy: 0.2484\n",
            "Epoch 16/50\n",
            "19/19 [==============================] - 93s 5s/step - loss: 1.7756 - accuracy: 0.4067 - val_loss: 2.9888 - val_accuracy: 0.2038\n",
            "Epoch 17/50\n",
            "19/19 [==============================] - 125s 7s/step - loss: 1.7236 - accuracy: 0.4467 - val_loss: 3.0073 - val_accuracy: 0.2357\n",
            "Epoch 18/50\n",
            "19/19 [==============================] - 103s 6s/step - loss: 1.5798 - accuracy: 0.4733 - val_loss: 2.9527 - val_accuracy: 0.2866\n",
            "Epoch 19/50\n",
            "19/19 [==============================] - 100s 5s/step - loss: 1.5113 - accuracy: 0.4533 - val_loss: 3.1544 - val_accuracy: 0.2357\n",
            "Epoch 20/50\n",
            "19/19 [==============================] - 101s 5s/step - loss: 1.4280 - accuracy: 0.5067 - val_loss: 3.7322 - val_accuracy: 0.2420\n",
            "Epoch 21/50\n",
            "19/19 [==============================] - 100s 5s/step - loss: 1.3777 - accuracy: 0.5533 - val_loss: 3.4109 - val_accuracy: 0.2484\n",
            "Epoch 22/50\n",
            "19/19 [==============================] - 102s 6s/step - loss: 1.2311 - accuracy: 0.5733 - val_loss: 3.6830 - val_accuracy: 0.2611\n",
            "Epoch 23/50\n",
            "19/19 [==============================] - 101s 5s/step - loss: 1.2240 - accuracy: 0.6000 - val_loss: 3.4799 - val_accuracy: 0.2166\n",
            "Epoch 24/50\n",
            "19/19 [==============================] - 103s 6s/step - loss: 1.1432 - accuracy: 0.6133 - val_loss: 3.5749 - val_accuracy: 0.2357\n",
            "Epoch 25/50\n",
            "19/19 [==============================] - 103s 6s/step - loss: 1.0008 - accuracy: 0.6867 - val_loss: 4.5416 - val_accuracy: 0.2229\n",
            "Epoch 26/50\n",
            "19/19 [==============================] - 102s 6s/step - loss: 1.0282 - accuracy: 0.6733 - val_loss: 4.3016 - val_accuracy: 0.2038\n",
            "Epoch 27/50\n",
            "19/19 [==============================] - 125s 7s/step - loss: 0.9816 - accuracy: 0.6800 - val_loss: 3.9631 - val_accuracy: 0.2548\n",
            "Epoch 28/50\n",
            "19/19 [==============================] - 94s 5s/step - loss: 0.7367 - accuracy: 0.7667 - val_loss: 4.5825 - val_accuracy: 0.2484\n",
            "Epoch 29/50\n",
            "19/19 [==============================] - 88s 5s/step - loss: 0.6360 - accuracy: 0.7933 - val_loss: 4.7449 - val_accuracy: 0.2357\n",
            "Epoch 30/50\n",
            "19/19 [==============================] - 123s 7s/step - loss: 0.8040 - accuracy: 0.7467 - val_loss: 4.7779 - val_accuracy: 0.2675\n",
            "Epoch 31/50\n",
            "19/19 [==============================] - 98s 5s/step - loss: 0.7209 - accuracy: 0.7667 - val_loss: 4.8720 - val_accuracy: 0.2739\n",
            "Epoch 32/50\n",
            "19/19 [==============================] - 97s 5s/step - loss: 0.5773 - accuracy: 0.8067 - val_loss: 5.7119 - val_accuracy: 0.2994\n",
            "Epoch 33/50\n",
            "19/19 [==============================] - 100s 5s/step - loss: 0.5729 - accuracy: 0.8200 - val_loss: 5.6254 - val_accuracy: 0.2930\n",
            "Epoch 34/50\n",
            "19/19 [==============================] - 88s 5s/step - loss: 0.4974 - accuracy: 0.8533 - val_loss: 5.8049 - val_accuracy: 0.2866\n",
            "Epoch 35/50\n",
            "19/19 [==============================] - 87s 5s/step - loss: 0.4723 - accuracy: 0.8533 - val_loss: 5.6324 - val_accuracy: 0.2994\n",
            "Epoch 36/50\n",
            "19/19 [==============================] - 87s 5s/step - loss: 0.3339 - accuracy: 0.9267 - val_loss: 6.2310 - val_accuracy: 0.2739\n",
            "Epoch 37/50\n",
            "19/19 [==============================] - 119s 6s/step - loss: 0.2956 - accuracy: 0.9133 - val_loss: 6.6997 - val_accuracy: 0.2675\n",
            "Epoch 38/50\n",
            "19/19 [==============================] - 86s 5s/step - loss: 0.2943 - accuracy: 0.9133 - val_loss: 7.2602 - val_accuracy: 0.2739\n",
            "Epoch 39/50\n",
            "19/19 [==============================] - 89s 5s/step - loss: 0.2724 - accuracy: 0.9267 - val_loss: 7.2541 - val_accuracy: 0.2293\n",
            "Epoch 40/50\n",
            "19/19 [==============================] - 88s 5s/step - loss: 0.2951 - accuracy: 0.9200 - val_loss: 8.0402 - val_accuracy: 0.2739\n",
            "Epoch 41/50\n",
            "19/19 [==============================] - 120s 7s/step - loss: 0.3540 - accuracy: 0.9267 - val_loss: 6.5993 - val_accuracy: 0.2420\n",
            "Epoch 42/50\n",
            "19/19 [==============================] - 90s 5s/step - loss: 0.2155 - accuracy: 0.9267 - val_loss: 8.1027 - val_accuracy: 0.2611\n",
            "Epoch 43/50\n",
            "19/19 [==============================] - 87s 5s/step - loss: 0.2296 - accuracy: 0.9333 - val_loss: 8.3410 - val_accuracy: 0.2420\n",
            "Epoch 44/50\n",
            "19/19 [==============================] - 88s 5s/step - loss: 0.3114 - accuracy: 0.9200 - val_loss: 7.1924 - val_accuracy: 0.2548\n",
            "Epoch 45/50\n",
            "19/19 [==============================] - 87s 5s/step - loss: 0.2864 - accuracy: 0.8867 - val_loss: 7.8641 - val_accuracy: 0.2420\n",
            "Epoch 46/50\n",
            "19/19 [==============================] - 88s 5s/step - loss: 0.2841 - accuracy: 0.9133 - val_loss: 7.0715 - val_accuracy: 0.2548\n",
            "Epoch 47/50\n",
            "19/19 [==============================] - 87s 5s/step - loss: 0.2147 - accuracy: 0.9200 - val_loss: 7.2894 - val_accuracy: 0.2611\n",
            "Epoch 48/50\n",
            "19/19 [==============================] - 88s 5s/step - loss: 0.1335 - accuracy: 0.9600 - val_loss: 8.2443 - val_accuracy: 0.2739\n",
            "Epoch 49/50\n",
            "19/19 [==============================] - 89s 5s/step - loss: 0.1794 - accuracy: 0.9400 - val_loss: 7.8713 - val_accuracy: 0.2548\n",
            "Epoch 50/50\n",
            "19/19 [==============================] - 88s 5s/step - loss: 0.1349 - accuracy: 0.9667 - val_loss: 8.1940 - val_accuracy: 0.2675\n"
          ]
        },
        {
          "output_type": "execute_result",
          "data": {
            "text/plain": [
              "<keras.callbacks.History at 0x7f6e90fff2b0>"
            ]
          },
          "metadata": {},
          "execution_count": 21
        }
      ]
    },
    {
      "cell_type": "code",
      "source": [
        "'''\n",
        "Initially accuracy of the model is very low upto 25%\n",
        "After tuning, accuracy of the model improved to 96%\n",
        "'''"
      ],
      "metadata": {
        "id": "YaPnbNbpIRBo"
      },
      "execution_count": null,
      "outputs": []
    }
  ]
}