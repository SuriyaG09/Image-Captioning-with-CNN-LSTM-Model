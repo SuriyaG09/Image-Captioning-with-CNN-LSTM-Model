{
  "nbformat": 4,
  "nbformat_minor": 0,
  "metadata": {
    "colab": {
      "provenance": []
    },
    "kernelspec": {
      "name": "python3",
      "display_name": "Python 3"
    },
    "language_info": {
      "name": "python"
    }
  },
  "cells": [
    {
      "cell_type": "markdown",
      "source": [
        "**20BCE0077 Suriyaprakash G**"
      ],
      "metadata": {
        "id": "AF6wQ1_zYy_p"
      }
    },
    {
      "cell_type": "markdown",
      "source": [
        "Task - 1 "
      ],
      "metadata": {
        "id": "AjglHzBLbyr6"
      }
    },
    {
      "cell_type": "markdown",
      "source": [
        "\n",
        "Create a pandas dataframe (DataFrame name as 'df') with numpy random values (4 features and 4 observation)"
      ],
      "metadata": {
        "id": "s2QYkX85Y9O4"
      }
    },
    {
      "cell_type": "code",
      "source": [
        "import pandas as pd\n",
        "import numpy as np\n",
        "\n",
        "np.random.seed(42)  # Set a seed for reproducibility\n",
        "\n",
        "data = np.random.rand(4, 4)  # Generate random values\n",
        "\n",
        "df = pd.DataFrame(data, columns=['Feature 1', 'Feature 2', 'Feature 3', 'Feature 4'])  # Create DataFrame\n",
        "\n",
        "print(df)\n"
      ],
      "metadata": {
        "colab": {
          "base_uri": "https://localhost:8080/"
        },
        "id": "xoy-UVwFY5ip",
        "outputId": "005cc322-989b-4ef4-a1bc-e87a40cfc1a3"
      },
      "execution_count": 1,
      "outputs": [
        {
          "output_type": "stream",
          "name": "stdout",
          "text": [
            "   Feature 1  Feature 2  Feature 3  Feature 4\n",
            "0   0.374540   0.950714   0.731994   0.598658\n",
            "1   0.156019   0.155995   0.058084   0.866176\n",
            "2   0.601115   0.708073   0.020584   0.969910\n",
            "3   0.832443   0.212339   0.181825   0.183405\n"
          ]
        }
      ]
    },
    {
      "cell_type": "markdown",
      "source": [
        "Task - 2 "
      ],
      "metadata": {
        "id": "f6Ve6ECPafZ5"
      }
    },
    {
      "cell_type": "markdown",
      "source": [
        "Rename the task - 1 'df' dataframe column names to 'Random value 1', 'Random value 2', 'Random value 3' & 'Random value 4'\n"
      ],
      "metadata": {
        "id": "xXcj2ISvahY8"
      }
    },
    {
      "cell_type": "code",
      "source": [
        "df.rename(columns={'Feature 1': 'Random value 1', 'Feature 2': 'Random value 2',\n",
        "                   'Feature 3': 'Random value 3', 'Feature 4': 'Random value 4'}, inplace=True)\n",
        "print(df)"
      ],
      "metadata": {
        "colab": {
          "base_uri": "https://localhost:8080/"
        },
        "id": "X_OE4j5HaiWM",
        "outputId": "d7a9f41c-0774-4893-e66d-0febd5791278"
      },
      "execution_count": 2,
      "outputs": [
        {
          "output_type": "stream",
          "name": "stdout",
          "text": [
            "   Random value 1  Random value 2  Random value 3  Random value 4\n",
            "0        0.374540        0.950714        0.731994        0.598658\n",
            "1        0.156019        0.155995        0.058084        0.866176\n",
            "2        0.601115        0.708073        0.020584        0.969910\n",
            "3        0.832443        0.212339        0.181825        0.183405\n"
          ]
        }
      ]
    },
    {
      "cell_type": "markdown",
      "source": [
        "Task - 3 "
      ],
      "metadata": {
        "id": "a0ipLFSCcmNK"
      }
    },
    {
      "cell_type": "markdown",
      "source": [
        "Find the descriptive statistics of the 'df' dataframe.\n"
      ],
      "metadata": {
        "id": "gvo12BaMcrnj"
      }
    },
    {
      "cell_type": "code",
      "source": [
        "# Calculate descriptive statistics\n",
        "statistics = df.describe()\n",
        "\n",
        "print(statistics)"
      ],
      "metadata": {
        "colab": {
          "base_uri": "https://localhost:8080/"
        },
        "id": "6Osiyw-1cupX",
        "outputId": "342a6f7f-d58b-4d4c-8b2b-4430c06f8a24"
      },
      "execution_count": 3,
      "outputs": [
        {
          "output_type": "stream",
          "name": "stdout",
          "text": [
            "       Random value 1  Random value 2  Random value 3  Random value 4\n",
            "count        4.000000        4.000000        4.000000        4.000000\n",
            "mean         0.491029        0.506780        0.248122        0.654537\n",
            "std          0.291252        0.386153        0.329856        0.350875\n",
            "min          0.156019        0.155995        0.020584        0.183405\n",
            "25%          0.319910        0.198253        0.048709        0.494845\n",
            "50%          0.487828        0.460206        0.119954        0.732417\n",
            "75%          0.658947        0.768733        0.319367        0.892110\n",
            "max          0.832443        0.950714        0.731994        0.969910\n"
          ]
        }
      ]
    },
    {
      "cell_type": "markdown",
      "source": [
        "Task - 4 "
      ],
      "metadata": {
        "id": "DeLB3V6PdvAx"
      }
    },
    {
      "cell_type": "markdown",
      "source": [
        "Check for the null values in 'df' and find the data type of the columns.\n"
      ],
      "metadata": {
        "id": "8EsgDkl9dxy2"
      }
    },
    {
      "cell_type": "code",
      "source": [
        "# Check for null values\n",
        "null_value = df.isnull().sum()\n",
        "\n",
        "# Find the data type of columns\n",
        "data_type = df.dtypes\n",
        "\n",
        "print(\"Null values: \\n\", null_value)\n",
        "print(\"\\nData types: \\n\", data_type)"
      ],
      "metadata": {
        "colab": {
          "base_uri": "https://localhost:8080/"
        },
        "id": "AfSpTttudsYD",
        "outputId": "8b3322f5-e245-4610-c638-9d02635f5611"
      },
      "execution_count": 4,
      "outputs": [
        {
          "output_type": "stream",
          "name": "stdout",
          "text": [
            "Null values: \n",
            " Random value 1    0\n",
            "Random value 2    0\n",
            "Random value 3    0\n",
            "Random value 4    0\n",
            "dtype: int64\n",
            "\n",
            "Data types: \n",
            " Random value 1    float64\n",
            "Random value 2    float64\n",
            "Random value 3    float64\n",
            "Random value 4    float64\n",
            "dtype: object\n"
          ]
        }
      ]
    },
    {
      "cell_type": "markdown",
      "source": [
        "Task - 5 "
      ],
      "metadata": {
        "id": "IvJsMiZ9eWO-"
      }
    },
    {
      "cell_type": "markdown",
      "source": [
        "Display the 'Random value 2' & 'Random value 3' columns with location method and index location method."
      ],
      "metadata": {
        "id": "oeAKalU9ebrJ"
      }
    },
    {
      "cell_type": "code",
      "source": [
        "# Display columns using loc method\n",
        "column_loc = df.loc[:, ['Random value 2', 'Random value 3']]\n",
        "\n",
        "# Display columns using iloc method\n",
        "column_iloc = df.iloc[:, [1, 2]]\n",
        "\n",
        "print(\"Columns with loc method:\\n\", column_loc)\n",
        "print(\"\\nColumns with iloc method:\\n\", column_iloc)"
      ],
      "metadata": {
        "colab": {
          "base_uri": "https://localhost:8080/"
        },
        "id": "2s77ob-Pec3e",
        "outputId": "bbddff55-7d30-4447-9720-a95259b559af"
      },
      "execution_count": 5,
      "outputs": [
        {
          "output_type": "stream",
          "name": "stdout",
          "text": [
            "Columns with loc method:\n",
            "    Random value 2  Random value 3\n",
            "0        0.950714        0.731994\n",
            "1        0.155995        0.058084\n",
            "2        0.708073        0.020584\n",
            "3        0.212339        0.181825\n",
            "\n",
            "Columns with iloc method:\n",
            "    Random value 2  Random value 3\n",
            "0        0.950714        0.731994\n",
            "1        0.155995        0.058084\n",
            "2        0.708073        0.020584\n",
            "3        0.212339        0.181825\n"
          ]
        }
      ]
    }
  ]
}