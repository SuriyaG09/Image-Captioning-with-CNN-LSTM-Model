{
  "nbformat": 4,
  "nbformat_minor": 0,
  "metadata": {
    "colab": {
      "provenance": []
    },
    "kernelspec": {
      "name": "python3",
      "display_name": "Python 3"
    },
    "language_info": {
      "name": "python"
    }
  },
  "cells": [
    {
      "cell_type": "markdown",
      "source": [
        "#Assignment 1\n"
      ],
      "metadata": {
        "id": "Buu748O5O8p9"
      }
    },
    {
      "cell_type": "code",
      "execution_count": 18,
      "metadata": {
        "id": "4-tWuZ54cgOz"
      },
      "outputs": [],
      "source": [
        "import pandas as pd\n",
        "import numpy as np"
      ]
    },
    {
      "cell_type": "markdown",
      "source": [
        "# Task 1: Create a pandas dataframe with numpy random values"
      ],
      "metadata": {
        "id": "Dud3ufNKPc9n"
      }
    },
    {
      "cell_type": "code",
      "source": [
        "data = np.random.rand(4, 4)\n",
        "df = pd.DataFrame(data)"
      ],
      "metadata": {
        "id": "CCphQRZePzyX"
      },
      "execution_count": null,
      "outputs": []
    },
    {
      "cell_type": "code",
      "source": [
        "print(\"Task 1 - DataFrame:\")\n",
        "print(df)"
      ],
      "metadata": {
        "colab": {
          "base_uri": "https://localhost:8080/"
        },
        "id": "7dyzFW9AP3W_",
        "outputId": "7d1a3531-535a-4ae3-fe10-b9cc97ef6612"
      },
      "execution_count": 19,
      "outputs": [
        {
          "output_type": "stream",
          "name": "stdout",
          "text": [
            "Task 1 - DataFrame:\n",
            "   Random value 1  Random value 2  Random value 3  Random value 4\n",
            "0        0.327780        0.342300        0.760613        0.037830\n",
            "1        0.899815        0.319069        0.812263        0.388584\n",
            "2        0.488083        0.490305        0.635824        0.121239\n",
            "3        0.841281        0.353438        0.192868        0.962081\n"
          ]
        }
      ]
    },
    {
      "cell_type": "markdown",
      "source": [
        "# Task 2: Rename the column names"
      ],
      "metadata": {
        "id": "JMk8Q1PKQEgf"
      }
    },
    {
      "cell_type": "code",
      "source": [
        "df.columns = ['Random value 1', 'Random value 2', 'Random value 3', 'Random value 4']"
      ],
      "metadata": {
        "id": "8GQioy7MKWJO"
      },
      "execution_count": 20,
      "outputs": []
    },
    {
      "cell_type": "code",
      "source": [
        "print(\"\\nTask 2 - Renamed column names:\")\n",
        "print(df.columns)"
      ],
      "metadata": {
        "colab": {
          "base_uri": "https://localhost:8080/"
        },
        "id": "ouGzbX_iQQMi",
        "outputId": "8c981024-3d6e-49c6-cb79-c6f66f7004da"
      },
      "execution_count": 21,
      "outputs": [
        {
          "output_type": "stream",
          "name": "stdout",
          "text": [
            "\n",
            "Task 2 - Renamed column names:\n",
            "Index(['Random value 1', 'Random value 2', 'Random value 3', 'Random value 4'], dtype='object')\n"
          ]
        }
      ]
    },
    {
      "cell_type": "markdown",
      "source": [
        "# Task 3: Descriptive statistics"
      ],
      "metadata": {
        "id": "zad5kxc8Q7u2"
      }
    },
    {
      "cell_type": "code",
      "source": [
        "statistics = df.describe()"
      ],
      "metadata": {
        "id": "nME1XmugKmKh"
      },
      "execution_count": 22,
      "outputs": []
    },
    {
      "cell_type": "code",
      "source": [
        "print(\"\\nTask 3 - Descriptive statistics:\")\n",
        "print(statistics)"
      ],
      "metadata": {
        "colab": {
          "base_uri": "https://localhost:8080/"
        },
        "id": "KPFKYoOORF32",
        "outputId": "ee39e3f7-2a7e-424f-e6e5-93aafe290fec"
      },
      "execution_count": 23,
      "outputs": [
        {
          "output_type": "stream",
          "name": "stdout",
          "text": [
            "\n",
            "Task 3 - Descriptive statistics:\n",
            "       Random value 1  Random value 2  Random value 3  Random value 4\n",
            "count        4.000000        4.000000        4.000000        4.000000\n",
            "mean         0.639240        0.376278        0.600392        0.377433\n",
            "std          0.276029        0.077355        0.281597        0.417494\n",
            "min          0.327780        0.319069        0.192868        0.037830\n",
            "25%          0.448007        0.336492        0.525085        0.100387\n",
            "50%          0.664682        0.347869        0.698218        0.254912\n",
            "75%          0.855915        0.387655        0.773525        0.531958\n",
            "max          0.899815        0.490305        0.812263        0.962081\n"
          ]
        }
      ]
    },
    {
      "cell_type": "markdown",
      "source": [
        "# Task 4: Check for null values and data types"
      ],
      "metadata": {
        "id": "1OwuxwPOQ03u"
      }
    },
    {
      "cell_type": "code",
      "source": [
        "null_values = df.isnull().sum()\n",
        "data_types = df.dtypes"
      ],
      "metadata": {
        "id": "POe5q_9QNlAM"
      },
      "execution_count": null,
      "outputs": []
    },
    {
      "cell_type": "code",
      "source": [
        "print(\"\\nTask 4 - Null values:\")\n",
        "print(null_values)"
      ],
      "metadata": {
        "colab": {
          "base_uri": "https://localhost:8080/"
        },
        "id": "VzKO8DJ9NrdT",
        "outputId": "0c777aa2-63e8-4c4d-b443-96c104726888"
      },
      "execution_count": 10,
      "outputs": [
        {
          "output_type": "stream",
          "name": "stdout",
          "text": [
            "\n",
            "Task 4 - Null values:\n",
            "Random value 1    0\n",
            "Random value 2    0\n",
            "Random value 3    0\n",
            "Random value 4    0\n",
            "dtype: int64\n"
          ]
        }
      ]
    },
    {
      "cell_type": "code",
      "source": [
        "print(\"\\nTask 4 - Data types:\")\n",
        "print(data_types)"
      ],
      "metadata": {
        "colab": {
          "base_uri": "https://localhost:8080/"
        },
        "id": "8KwUVx3GNv6M",
        "outputId": "56c1d6aa-a878-45a6-8ff6-3d61d26732f5"
      },
      "execution_count": 11,
      "outputs": [
        {
          "output_type": "stream",
          "name": "stdout",
          "text": [
            "\n",
            "Task 4 - Data types:\n",
            "Random value 1    float64\n",
            "Random value 2    float64\n",
            "Random value 3    float64\n",
            "Random value 4    float64\n",
            "dtype: object\n"
          ]
        }
      ]
    },
    {
      "cell_type": "markdown",
      "source": [
        "# Task 5: Display columns using location and index location methods"
      ],
      "metadata": {
        "id": "0lrfF8UEQm6J"
      }
    },
    {
      "cell_type": "code",
      "source": [
        "random_value_2_loc = df.loc[:, 'Random value 2']\n",
        "random_value_2_iloc = df.iloc[:, 1]  # Assuming the column index for 'Random value 2' is 1\n",
        "\n",
        "random_value_3_loc = df.loc[:, 'Random value 3']\n",
        "random_value_3_iloc = df.iloc[:, 2]  # Assuming the column index for 'Random value 3' is 2"
      ],
      "metadata": {
        "id": "JqfnyznoLs9X"
      },
      "execution_count": 15,
      "outputs": []
    },
    {
      "cell_type": "code",
      "source": [
        "print(\"\\nTask 5 - 'Random value 2' column using loc:\")\n",
        "print(random_value_2_loc)"
      ],
      "metadata": {
        "colab": {
          "base_uri": "https://localhost:8080/"
        },
        "id": "D8WsE8mAOSfa",
        "outputId": "f70a63ca-470c-4112-c279-8a443df53cfc"
      },
      "execution_count": 14,
      "outputs": [
        {
          "output_type": "stream",
          "name": "stdout",
          "text": [
            "\n",
            "Task 5 - 'Random value 2' column using loc:\n",
            "0    0.342300\n",
            "1    0.319069\n",
            "2    0.490305\n",
            "3    0.353438\n",
            "Name: Random value 2, dtype: float64\n"
          ]
        }
      ]
    },
    {
      "cell_type": "code",
      "source": [
        "print(\"\\nTask 5 - 'Random value 2' column using iloc:\")\n",
        "print(random_value_2_iloc)"
      ],
      "metadata": {
        "colab": {
          "base_uri": "https://localhost:8080/"
        },
        "id": "H9_nQRJIOE6m",
        "outputId": "eab91359-2b20-4f32-d9bd-3d92081647f7"
      },
      "execution_count": 13,
      "outputs": [
        {
          "output_type": "stream",
          "name": "stdout",
          "text": [
            "\n",
            "Task 5 - 'Random value 2' column using iloc:\n",
            "0    0.342300\n",
            "1    0.319069\n",
            "2    0.490305\n",
            "3    0.353438\n",
            "Name: Random value 2, dtype: float64\n"
          ]
        }
      ]
    },
    {
      "cell_type": "code",
      "source": [
        "print(\"\\nTask 5 - 'Random value 3' column using loc:\")\n",
        "print(random_value_3_loc)"
      ],
      "metadata": {
        "colab": {
          "base_uri": "https://localhost:8080/"
        },
        "id": "IJn3tebUOmIH",
        "outputId": "18be686d-f948-4b3d-bcd5-1bf2b8efeae6"
      },
      "execution_count": 16,
      "outputs": [
        {
          "output_type": "stream",
          "name": "stdout",
          "text": [
            "\n",
            "Task 5 - 'Random value 3' column using loc:\n",
            "0    0.760613\n",
            "1    0.812263\n",
            "2    0.635824\n",
            "3    0.192868\n",
            "Name: Random value 3, dtype: float64\n"
          ]
        }
      ]
    },
    {
      "cell_type": "code",
      "source": [
        "print(\"\\nTask 5 - 'Random value 3' column using iloc:\")\n",
        "print(random_value_3_iloc)"
      ],
      "metadata": {
        "colab": {
          "base_uri": "https://localhost:8080/"
        },
        "id": "Hry5JqEXOrMB",
        "outputId": "ddf22623-9019-441a-cc6a-df7d6cfcc307"
      },
      "execution_count": 17,
      "outputs": [
        {
          "output_type": "stream",
          "name": "stdout",
          "text": [
            "\n",
            "Task 5 - 'Random value 3' column using iloc:\n",
            "0    0.760613\n",
            "1    0.812263\n",
            "2    0.635824\n",
            "3    0.192868\n",
            "Name: Random value 3, dtype: float64\n"
          ]
        }
      ]
    }
  ]
}