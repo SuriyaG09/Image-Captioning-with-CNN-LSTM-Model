{
  "cells": [
    {
      "attachments": {},
      "cell_type": "markdown",
      "metadata": {
        "id": "ADo8ibxzJDoK"
      },
      "source": [
        "**AI ASSIGNMENT-03 20BCE2518**\n"
      ]
    },
    {
      "cell_type": "code",
      "execution_count": null,
      "metadata": {
        "colab": {
          "base_uri": "https://localhost:8080/"
        },
        "id": "HVYX9o8YWsTF",
        "outputId": "42bd1fa3-9f72-4239-e86e-0830950580fa"
      },
      "outputs": [
        {
          "name": "stdout",
          "output_type": "stream",
          "text": [
            "Mounted at /content/drive\n"
          ]
        }
      ],
      "source": [
        "from google.colab import drive\n",
        "drive.mount('/content/drive')"
      ]
    },
    {
      "attachments": {},
      "cell_type": "markdown",
      "metadata": {
        "id": "gm9MJ5e9bSf3"
      },
      "source": [
        "Unzip the folder "
      ]
    },
    {
      "cell_type": "code",
      "execution_count": null,
      "metadata": {
        "colab": {
          "base_uri": "https://localhost:8080/"
        },
        "id": "sWQQwL8esP-b",
        "outputId": "1025c390-725c-4c75-fb7a-a4e0961719b0"
      },
      "outputs": [
        {
          "name": "stdout",
          "output_type": "stream",
          "text": [
            "Archive:  /content/drive/MyDrive/ssd/archive (1).zip\n",
            "  inflating: test_data/test_data/blasti/DSC_6396.jpg  \n",
            "  inflating: test_data/test_data/blasti/DSC_6397.jpg  \n",
            "  inflating: test_data/test_data/blasti/DSC_6398.jpg  \n",
            "  inflating: test_data/test_data/blasti/DSC_6399.jpg  \n",
            "  inflating: test_data/test_data/blasti/DSC_6400.jpg  \n",
            "  inflating: test_data/test_data/blasti/DSC_6401.jpg  \n",
            "  inflating: test_data/test_data/blasti/DSC_6402.jpg  \n",
            "  inflating: test_data/test_data/blasti/DSC_6403.jpg  \n",
            "  inflating: test_data/test_data/blasti/DSC_6405.jpg  \n",
            "  inflating: test_data/test_data/blasti/DSC_6406.jpg  \n",
            "  inflating: test_data/test_data/blasti/DSC_6407.jpg  \n",
            "  inflating: test_data/test_data/blasti/DSC_6408.jpg  \n",
            "  inflating: test_data/test_data/blasti/DSC_6409.jpg  \n",
            "  inflating: test_data/test_data/blasti/DSC_6410.jpg  \n",
            "  inflating: test_data/test_data/blasti/DSC_6411.jpg  \n",
            "  inflating: test_data/test_data/bonegl/DSC_4587.jpg  \n",
            "  inflating: test_data/test_data/bonegl/DSC_4588.jpg  \n",
            "  inflating: test_data/test_data/bonegl/DSC_4589.jpg  \n",
            "  inflating: test_data/test_data/bonegl/DSC_4590.jpg  \n",
            "  inflating: test_data/test_data/bonegl/DSC_4591.jpg  \n",
            "  inflating: test_data/test_data/bonegl/DSC_4592.jpg  \n",
            "  inflating: test_data/test_data/bonegl/DSC_4593.jpg  \n",
            "  inflating: test_data/test_data/brhkyt/D72_0473.jpg  \n",
            "  inflating: test_data/test_data/brhkyt/D72_0474.jpg  \n",
            "  inflating: test_data/test_data/brhkyt/D72_0475.jpg  \n",
            "  inflating: test_data/test_data/brhkyt/D72_0477.jpg  \n",
            "  inflating: test_data/test_data/brhkyt/D72_0478.jpg  \n",
            "  inflating: test_data/test_data/brhkyt/D72_0479.jpg  \n",
            "  inflating: test_data/test_data/cbrtsh/_D32_10310.jpg  \n",
            "  inflating: test_data/test_data/cbrtsh/_D32_10311.jpg  \n",
            "  inflating: test_data/test_data/cbrtsh/_D32_10312.jpg  \n",
            "  inflating: test_data/test_data/cbrtsh/_D32_10313.jpg  \n",
            "  inflating: test_data/test_data/cbrtsh/_D32_10314.jpg  \n",
            "  inflating: test_data/test_data/cbrtsh/_D32_10317.jpg  \n",
            "  inflating: test_data/test_data/cbrtsh/_D32_10318.jpg  \n",
            "  inflating: test_data/test_data/cmnmyn/DSC_2443.jpg  \n",
            "  inflating: test_data/test_data/cmnmyn/DSC_4681.jpg  \n",
            "  inflating: test_data/test_data/cmnmyn/DSC_5137.jpg  \n",
            "  inflating: test_data/test_data/cmnmyn/DSC_7625.jpg  \n",
            "  inflating: test_data/test_data/cmnmyn/P1050277.jpg  \n",
            "  inflating: test_data/test_data/cmnmyn/_D32_12426.jpg  \n",
            "  inflating: test_data/test_data/cmnmyn/_D32_12427.jpg  \n",
            "  inflating: test_data/test_data/cmnmyn/_D32_12428.jpg  \n",
            "  inflating: test_data/test_data/gretit/11620454726_31a35c26da_o.jpg  \n",
            "  inflating: test_data/test_data/gretit/11776135285_ccf938fa2e_o.jpg  \n",
            "  inflating: test_data/test_data/gretit/11905645146_6a5d4ff9f9_o.jpg  \n",
            "  inflating: test_data/test_data/gretit/8537646712_0b282c4c6a_o.jpg  \n",
            "  inflating: test_data/test_data/gretit/D72_0693.jpg  \n",
            "  inflating: test_data/test_data/gretit/D72_0694.jpg  \n",
            "  inflating: test_data/test_data/gretit/D72_0695.jpg  \n",
            "  inflating: test_data/test_data/hilpig/DSC_6359.jpg  \n",
            "  inflating: test_data/test_data/hilpig/DSC_6362.jpg  \n",
            "  inflating: test_data/test_data/hilpig/DSC_6364.jpg  \n",
            "  inflating: test_data/test_data/hilpig/DSC_6368.jpg  \n",
            "  inflating: test_data/test_data/hilpig/DSC_6403.jpg  \n",
            "  inflating: test_data/test_data/hilpig/DSC_6404.jpg  \n",
            "  inflating: test_data/test_data/hilpig/P1000319.jpg  \n",
            "  inflating: test_data/test_data/hilpig/P1000323.jpg  \n",
            "  inflating: test_data/test_data/hilpig/P1050044.jpg  \n",
            "  inflating: test_data/test_data/hilpig/P1050045.jpg  \n",
            "  inflating: test_data/test_data/himbul/11602064885_3826df4500_o.jpg  \n",
            "  inflating: test_data/test_data/himbul/11619942574_42f23a7b05_o.jpg  \n",
            "  inflating: test_data/test_data/himbul/11620097904_33fa8ee878_o.jpg  \n",
            "  inflating: test_data/test_data/himbul/5857371972_ed4f88b275_o.jpg  \n",
            "  inflating: test_data/test_data/himbul/6154954471_eefe6e00d1_o.jpg  \n",
            "  inflating: test_data/test_data/himbul/D72_0688.jpg  \n",
            "  inflating: test_data/test_data/himbul/D72_0691.jpg  \n",
            "  inflating: test_data/test_data/himbul/DSC08357.jpg  \n",
            "  inflating: test_data/test_data/himbul/DSC_3230.jpg  \n",
            "  inflating: test_data/test_data/himbul/DSC_7439.jpg  \n",
            "  inflating: test_data/test_data/himbul/DSC_7602.jpg  \n",
            "  inflating: test_data/test_data/himbul/P1060368.jpg  \n",
            "  inflating: test_data/test_data/himbul/P1060369.jpg  \n",
            "  inflating: test_data/test_data/himbul/_D32_10242.jpg  \n",
            "  inflating: test_data/test_data/himbul/_D32_10245.jpg  \n",
            "  inflating: test_data/test_data/himbul/_D32_10251.jpg  \n",
            "  inflating: test_data/test_data/himbul/_D32_10319.jpg  \n",
            "  inflating: test_data/test_data/himbul/_D32_10320.jpg  \n",
            "  inflating: test_data/test_data/himbul/_DSC9446.jpg  \n",
            "  inflating: test_data/test_data/himgri/IMG_5384.JPG  \n",
            "  inflating: test_data/test_data/himgri/IMG_5385.JPG  \n",
            "  inflating: test_data/test_data/himgri/IMG_5386.JPG  \n",
            "  inflating: test_data/test_data/himgri/IMG_5387.JPG  \n",
            "  inflating: test_data/test_data/himgri/IMG_5459.JPG  \n",
            "  inflating: test_data/test_data/himgri/IMG_5460.JPG  \n",
            "  inflating: test_data/test_data/himgri/IMG_5487.JPG  \n",
            "  inflating: test_data/test_data/himgri/IMG_5488.JPG  \n",
            "  inflating: test_data/test_data/himgri/IMG_5489.JPG  \n",
            "  inflating: test_data/test_data/himgri/IMG_5490.JPG  \n",
            "  inflating: test_data/test_data/himgri/IMG_5491.JPG  \n",
            "  inflating: test_data/test_data/himgri/IMG_5492.JPG  \n",
            "  inflating: test_data/test_data/himgri/P1020742.jpg  \n",
            "  inflating: test_data/test_data/himgri/P1020743.jpg  \n",
            "  inflating: test_data/test_data/himgri/P1020746.jpg  \n",
            "  inflating: test_data/test_data/himgri/P1020748.jpg  \n",
            "  inflating: test_data/test_data/himgri/P1030055.jpg  \n",
            "  inflating: test_data/test_data/himgri/P1060776.jpg  \n",
            "  inflating: test_data/test_data/himgri/P1060777.jpg  \n",
            "  inflating: test_data/test_data/himgri/P1060778.jpg  \n",
            "  inflating: test_data/test_data/hsparo/100_5573.JPG  \n",
            "  inflating: test_data/test_data/hsparo/100_5585.JPG  \n",
            "  inflating: test_data/test_data/hsparo/100_5586.JPG  \n",
            "  inflating: test_data/test_data/hsparo/100_5742.JPG  \n",
            "  inflating: test_data/test_data/hsparo/12265273154_48e0fefd42_o.jpg  \n",
            "  inflating: test_data/test_data/hsparo/DSC_4521.jpg  \n",
            "  inflating: test_data/test_data/hsparo/DSC_7619.jpg  \n",
            "  inflating: test_data/test_data/hsparo/_DSC_11244.jpg  \n",
            "  inflating: test_data/test_data/hsparo/_DSC_11246.jpg  \n",
            "  inflating: test_data/test_data/indvul/DSC_1263.jpg  \n",
            "  inflating: test_data/test_data/indvul/DSC_1273.jpg  \n",
            "  inflating: test_data/test_data/indvul/DSC_1274.jpg  \n",
            "  inflating: test_data/test_data/indvul/DSC_1275.jpg  \n",
            "  inflating: test_data/test_data/indvul/DSC_1277.jpg  \n",
            "  inflating: test_data/test_data/indvul/_DSC8754.jpg  \n",
            "  inflating: test_data/test_data/indvul/_DSC9520.jpg  \n",
            "  inflating: test_data/test_data/indvul/_DSC9521.jpg  \n",
            "  inflating: test_data/test_data/indvul/_DSC9523.jpg  \n",
            "  inflating: test_data/test_data/jglowl/_D32_10584.jpg  \n",
            "  inflating: test_data/test_data/jglowl/_D32_10587.jpg  \n",
            "  inflating: test_data/test_data/jglowl/_D32_10593.jpg  \n",
            "  inflating: test_data/test_data/jglowl/_D32_13515.jpg  \n",
            "  inflating: test_data/test_data/jglowl/_D32_13516.jpg  \n",
            "  inflating: test_data/test_data/jglowl/_D32_13517.jpg  \n",
            "  inflating: test_data/test_data/lbicrw/100_4917.JPG  \n",
            "  inflating: test_data/test_data/lbicrw/IMG_5538.JPG  \n",
            "  inflating: test_data/test_data/lbicrw/IMG_5541.JPG  \n",
            "  inflating: test_data/test_data/lbicrw/IMG_5543.JPG  \n",
            "  inflating: test_data/test_data/lbicrw/IMG_5544.JPG  \n",
            "  inflating: test_data/test_data/lbicrw/P1030030.jpg  \n",
            "  inflating: test_data/test_data/mgprob/100_5811.JPG  \n",
            "  inflating: test_data/test_data/mgprob/100_5812.JPG  \n",
            "  inflating: test_data/test_data/mgprob/100_5813.JPG  \n",
            "  inflating: test_data/test_data/mgprob/DSC_3233.jpg  \n",
            "  inflating: test_data/test_data/mgprob/_DSC0085.jpg  \n",
            "  inflating: test_data/test_data/mgprob/_DSC0133.jpg  \n",
            "  inflating: test_data/test_data/mgprob/_DSC0135.jpg  \n",
            "  inflating: test_data/test_data/rebimg/100_5756.JPG  \n",
            "  inflating: test_data/test_data/rebimg/100_5757.JPG  \n",
            "  inflating: test_data/test_data/rebimg/100_5758.JPG  \n",
            "  inflating: test_data/test_data/rebimg/100_5759.JPG  \n",
            "  inflating: test_data/test_data/rebimg/100_5760.JPG  \n",
            "  inflating: test_data/test_data/rebimg/13009302395_5d88a9d62b_o.jpg  \n",
            "  inflating: test_data/test_data/rebimg/13009315305_f1cbfb6767_o.jpg  \n",
            "  inflating: test_data/test_data/rebimg/13009451823_8eb502581f_o.jpg  \n",
            "  inflating: test_data/test_data/rebimg/DSC_7148.jpg  \n",
            "  inflating: test_data/test_data/rebimg/IMG_5251.JPG  \n",
            "  inflating: test_data/test_data/rebimg/IMG_5252.JPG  \n",
            "  inflating: test_data/test_data/wcrsrt/100_4462.JPG  \n",
            "  inflating: test_data/test_data/wcrsrt/100_4463.JPG  \n",
            "  inflating: test_data/test_data/wcrsrt/100_4464.JPG  \n",
            "  inflating: test_data/test_data/wcrsrt/100_4466.JPG  \n",
            "  inflating: test_data/test_data/wcrsrt/100_4467.JPG  \n",
            "  inflating: test_data/test_data/wcrsrt/100_4468.JPG  \n",
            "  inflating: test_data/test_data/wcrsrt/100_5103.JPG  \n",
            "  inflating: test_data/test_data/wcrsrt/100_5105.JPG  \n",
            "  inflating: test_data/test_data/wcrsrt/11382677585_ef6570a041_o.jpg  \n",
            "  inflating: test_data/test_data/wcrsrt/11382746854_7ce73793b3_o.jpg  \n",
            "  inflating: train_data/train_data/blasti/DSC_6382.jpg  \n",
            "  inflating: train_data/train_data/blasti/DSC_6383.jpg  \n",
            "  inflating: train_data/train_data/blasti/DSC_6384-2.jpg  \n",
            "  inflating: train_data/train_data/blasti/DSC_6384.jpg  \n",
            "  inflating: train_data/train_data/blasti/DSC_6385.jpg  \n",
            "  inflating: train_data/train_data/blasti/DSC_6386.jpg  \n",
            "  inflating: train_data/train_data/blasti/DSC_6387.jpg  \n",
            "  inflating: train_data/train_data/blasti/DSC_6388.jpg  \n",
            "  inflating: train_data/train_data/blasti/DSC_6389.jpg  \n",
            "  inflating: train_data/train_data/blasti/DSC_6390.jpg  \n",
            "  inflating: train_data/train_data/blasti/DSC_6391.jpg  \n",
            "  inflating: train_data/train_data/blasti/DSC_6392.jpg  \n",
            "  inflating: train_data/train_data/blasti/DSC_6393.jpg  \n",
            "  inflating: train_data/train_data/blasti/DSC_6394.jpg  \n",
            "  inflating: train_data/train_data/blasti/DSC_6395.jpg  \n",
            "  inflating: train_data/train_data/bonegl/DSC_4570.jpg  \n",
            "  inflating: train_data/train_data/bonegl/DSC_4571.jpg  \n",
            "  inflating: train_data/train_data/bonegl/DSC_4583.jpg  \n",
            "  inflating: train_data/train_data/bonegl/DSC_4584.jpg  \n",
            "  inflating: train_data/train_data/bonegl/DSC_4585.jpg  \n",
            "  inflating: train_data/train_data/bonegl/DSC_4586.jpg  \n",
            "  inflating: train_data/train_data/brhkyt/D72_0400.jpg  \n",
            "  inflating: train_data/train_data/brhkyt/D72_0401.jpg  \n",
            "  inflating: train_data/train_data/brhkyt/D72_0470.jpg  \n",
            "  inflating: train_data/train_data/brhkyt/D72_0471.jpg  \n",
            "  inflating: train_data/train_data/brhkyt/D72_0472.jpg  \n",
            "  inflating: train_data/train_data/cbrtsh/100_5097.JPG  \n",
            "  inflating: train_data/train_data/cbrtsh/_D32_10303.jpg  \n",
            "  inflating: train_data/train_data/cbrtsh/_D32_10305.jpg  \n",
            "  inflating: train_data/train_data/cbrtsh/_D32_10306.jpg  \n",
            "  inflating: train_data/train_data/cbrtsh/_D32_10307.jpg  \n",
            "  inflating: train_data/train_data/cbrtsh/_D32_10308.jpg  \n",
            "  inflating: train_data/train_data/cbrtsh/_D32_10309.jpg  \n",
            "  inflating: train_data/train_data/cmnmyn/100_5763.JPG  \n",
            "  inflating: train_data/train_data/cmnmyn/5866682091_870ccc946c_o.jpg  \n",
            "  inflating: train_data/train_data/cmnmyn/6154956165_64266b8b53_o.jpg  \n",
            "  inflating: train_data/train_data/cmnmyn/DSCN5784.jpg  \n",
            "  inflating: train_data/train_data/cmnmyn/DSCN5787.jpg  \n",
            "  inflating: train_data/train_data/cmnmyn/DSCN5790.jpg  \n",
            "  inflating: train_data/train_data/cmnmyn/DSCN5791.jpg  \n",
            "  inflating: train_data/train_data/gretit/100_5042.JPG  \n",
            "  inflating: train_data/train_data/gretit/100_5043.JPG  \n",
            "  inflating: train_data/train_data/gretit/100_5044.JPG  \n",
            "  inflating: train_data/train_data/gretit/100_5045.JPG  \n",
            "  inflating: train_data/train_data/gretit/100_5046.JPG  \n",
            "  inflating: train_data/train_data/gretit/100_5047.JPG  \n",
            "  inflating: train_data/train_data/hilpig/DSC_6272.jpg  \n",
            "  inflating: train_data/train_data/hilpig/DSC_6273.jpg  \n",
            "  inflating: train_data/train_data/hilpig/DSC_6274.jpg  \n",
            "  inflating: train_data/train_data/hilpig/DSC_6275.jpg  \n",
            "  inflating: train_data/train_data/hilpig/DSC_6350.jpg  \n",
            "  inflating: train_data/train_data/hilpig/DSC_6351.jpg  \n",
            "  inflating: train_data/train_data/hilpig/DSC_6352.jpg  \n",
            "  inflating: train_data/train_data/hilpig/DSC_6353.jpg  \n",
            "  inflating: train_data/train_data/hilpig/DSC_6354.jpg  \n",
            "  inflating: train_data/train_data/hilpig/DSC_6358.jpg  \n",
            "  inflating: train_data/train_data/himbul/100_5028.JPG  \n",
            "  inflating: train_data/train_data/himbul/100_5029.JPG  \n",
            "  inflating: train_data/train_data/himbul/100_5096.JPG  \n",
            "  inflating: train_data/train_data/himbul/100_5099.JPG  \n",
            "  inflating: train_data/train_data/himbul/100_5100.JPG  \n",
            "  inflating: train_data/train_data/himbul/100_5102.JPG  \n",
            "  inflating: train_data/train_data/himbul/100_5110.JPG  \n",
            "  inflating: train_data/train_data/himbul/100_5112.JPG  \n",
            "  inflating: train_data/train_data/himbul/100_5113.JPG  \n",
            "  inflating: train_data/train_data/himbul/100_5159.JPG  \n",
            "  inflating: train_data/train_data/himbul/100_5160.JPG  \n",
            "  inflating: train_data/train_data/himbul/100_5161.JPG  \n",
            "  inflating: train_data/train_data/himbul/100_5162.JPG  \n",
            "  inflating: train_data/train_data/himbul/10774570945_9bc537c255_o.jpg  \n",
            "  inflating: train_data/train_data/himbul/11383838134_96e891a316_o.jpg  \n",
            "  inflating: train_data/train_data/himbul/11383857084_cdd7514746_o.jpg  \n",
            "  inflating: train_data/train_data/himbul/11387473723_464965720a_o.jpg  \n",
            "  inflating: train_data/train_data/himbul/9007817678_24db19fc63_o.jpg  \n",
            "  inflating: train_data/train_data/himgri/12029790563_2fe54a68aa_o.jpg  \n",
            "  inflating: train_data/train_data/himgri/12029822653_1185544e7b_o.jpg  \n",
            "  inflating: train_data/train_data/himgri/12029933015_802428e277_o.jpg  \n",
            "  inflating: train_data/train_data/himgri/12029987304_031b7a2d53_o.jpg  \n",
            "  inflating: train_data/train_data/himgri/12030165813_f5341e8ed0_o.jpg  \n",
            "  inflating: train_data/train_data/himgri/12030221124_1baaf905d1_o.jpg  \n",
            "  inflating: train_data/train_data/himgri/12030269234_1c3f5a8e8c_o.jpg  \n",
            "  inflating: train_data/train_data/himgri/12152037683_13e1556c41_o.jpg  \n",
            "  inflating: train_data/train_data/himgri/12152178844_dc29e3126f_o.jpg  \n",
            "  inflating: train_data/train_data/himgri/12152510436_23b62fed3b_o.jpg  \n",
            "  inflating: train_data/train_data/himgri/12265055185_138e3c7c70_o.jpg  \n",
            "  inflating: train_data/train_data/himgri/12265498144_d2e80faa3b_o.jpg  \n",
            "  inflating: train_data/train_data/himgri/12265561764_4814951031_o.jpg  \n",
            "  inflating: train_data/train_data/himgri/12265582724_61cb64e73a_o.jpg  \n",
            "  inflating: train_data/train_data/himgri/12265738206_2b9b25cc8a_o.jpg  \n",
            "  inflating: train_data/train_data/himgri/12265747116_d4b4fa3741_o.jpg  \n",
            "  inflating: train_data/train_data/himgri/12266053036_fcab92d8e8_o.jpg  \n",
            "  inflating: train_data/train_data/himgri/12266077576_1d7143aaf7_o.jpg  \n",
            "  inflating: train_data/train_data/himgri/12266086526_82cd337667_o.jpg  \n",
            "  inflating: train_data/train_data/himgri/IMG_5463.JPG  \n",
            "  inflating: train_data/train_data/hsparo/100_4757.JPG  \n",
            "  inflating: train_data/train_data/hsparo/100_4758.JPG  \n",
            "  inflating: train_data/train_data/hsparo/100_5039.JPG  \n",
            "  inflating: train_data/train_data/hsparo/100_5040.JPG  \n",
            "  inflating: train_data/train_data/hsparo/100_5041.JPG  \n",
            "  inflating: train_data/train_data/hsparo/100_5048.JPG  \n",
            "  inflating: train_data/train_data/hsparo/100_5049.JPG  \n",
            "  inflating: train_data/train_data/hsparo/100_5050.JPG  \n",
            "  inflating: train_data/train_data/hsparo/100_5572.JPG  \n",
            "  inflating: train_data/train_data/indvul/DSC_0502.jpg  \n",
            "  inflating: train_data/train_data/indvul/DSC_0571e.jpg  \n",
            "  inflating: train_data/train_data/indvul/DSC_0572.jpg  \n",
            "  inflating: train_data/train_data/indvul/DSC_0576e.jpg  \n",
            "  inflating: train_data/train_data/indvul/DSC_0582.jpg  \n",
            "  inflating: train_data/train_data/indvul/DSC_0583e.jpg  \n",
            "  inflating: train_data/train_data/indvul/DSC_0584.jpg  \n",
            "  inflating: train_data/train_data/indvul/DSC_0616c.jpg  \n",
            "  inflating: train_data/train_data/indvul/DSC_0617.jpg  \n",
            "  inflating: train_data/train_data/jglowl/12152151476_7a1524aabb_o.jpg  \n",
            "  inflating: train_data/train_data/jglowl/DSC01335.jpg  \n",
            "  inflating: train_data/train_data/jglowl/DSC01336.jpg  \n",
            "  inflating: train_data/train_data/jglowl/_D32_10285.jpg  \n",
            "  inflating: train_data/train_data/jglowl/_D32_10578.jpg  \n",
            "  inflating: train_data/train_data/jglowl/_D32_10583.jpg  \n",
            "  inflating: train_data/train_data/lbicrw/100_4037.JPG  \n",
            "  inflating: train_data/train_data/lbicrw/100_4912.JPG  \n",
            "  inflating: train_data/train_data/lbicrw/100_4913.JPG  \n",
            "  inflating: train_data/train_data/lbicrw/100_4914.JPG  \n",
            "  inflating: train_data/train_data/lbicrw/100_4915.JPG  \n",
            "  inflating: train_data/train_data/lbicrw/100_4916.JPG  \n",
            "  inflating: train_data/train_data/mgprob/100_5587.JPG  \n",
            "  inflating: train_data/train_data/mgprob/100_5588.JPG  \n",
            "  inflating: train_data/train_data/mgprob/100_5589.JPG  \n",
            "  inflating: train_data/train_data/mgprob/100_5590.JPG  \n",
            "  inflating: train_data/train_data/mgprob/100_5592.JPG  \n",
            "  inflating: train_data/train_data/mgprob/100_5762.JPG  \n",
            "  inflating: train_data/train_data/rebimg/100_5744.JPG  \n",
            "  inflating: train_data/train_data/rebimg/100_5745.JPG  \n",
            "  inflating: train_data/train_data/rebimg/100_5746.JPG  \n",
            "  inflating: train_data/train_data/rebimg/100_5748.JPG  \n",
            "  inflating: train_data/train_data/rebimg/100_5749.JPG  \n",
            "  inflating: train_data/train_data/rebimg/100_5750.JPG  \n",
            "  inflating: train_data/train_data/rebimg/100_5751.JPG  \n",
            "  inflating: train_data/train_data/rebimg/100_5752.JPG  \n",
            "  inflating: train_data/train_data/rebimg/100_5754.JPG  \n",
            "  inflating: train_data/train_data/rebimg/100_5755.JPG  \n",
            "  inflating: train_data/train_data/wcrsrt/100_4452.JPG  \n",
            "  inflating: train_data/train_data/wcrsrt/100_4453.JPG  \n",
            "  inflating: train_data/train_data/wcrsrt/100_4454.JPG  \n",
            "  inflating: train_data/train_data/wcrsrt/100_4455.JPG  \n",
            "  inflating: train_data/train_data/wcrsrt/100_4456.JPG  \n",
            "  inflating: train_data/train_data/wcrsrt/100_4457.JPG  \n",
            "  inflating: train_data/train_data/wcrsrt/100_4458.JPG  \n",
            "  inflating: train_data/train_data/wcrsrt/100_4459.JPG  \n",
            "  inflating: train_data/train_data/wcrsrt/100_4460.JPG  \n",
            "  inflating: train_data/train_data/wcrsrt/100_4461.JPG  \n"
          ]
        }
      ],
      "source": [
        "!unzip '/content/drive/MyDrive/ssd/archive (1).zip'"
      ]
    },
    {
      "cell_type": "code",
      "execution_count": null,
      "metadata": {
        "id": "nUGSbmlJzkoF"
      },
      "outputs": [],
      "source": [
        "# Data Augmentation\n",
        "\n",
        "from tensorflow.keras.preprocessing.image import ImageDataGenerator"
      ]
    },
    {
      "cell_type": "code",
      "execution_count": null,
      "metadata": {
        "id": "XkfTIw0x2BrP"
      },
      "outputs": [],
      "source": [
        "train_gen = ImageDataGenerator(rescale=(1./255),horizontal_flip=True,shear_range=0.2)\n",
        "test_gen = ImageDataGenerator(rescale=(1./255))  #--> (0 to 255) convert to (0 to 1)"
      ]
    },
    {
      "cell_type": "code",
      "execution_count": null,
      "metadata": {
        "colab": {
          "base_uri": "https://localhost:8080/"
        },
        "id": "NDYmhnHH3N_a",
        "outputId": "ff2fa3f8-5630-4a44-a287-ef401daba07a"
      },
      "outputs": [
        {
          "name": "stdout",
          "output_type": "stream",
          "text": [
            "Found 150 images belonging to 16 classes.\n",
            "Found 157 images belonging to 16 classes.\n"
          ]
        }
      ],
      "source": [
        "train = train_gen.flow_from_directory('/content/train_data/train_data',\n",
        "                                      target_size=(120, 120),\n",
        "                                      class_mode='categorical', \n",
        "                                      batch_size=8)\n",
        "test = test_gen.flow_from_directory('/content/test_data/test_data',\n",
        "                                    target_size=(120, 120),\n",
        "                                      class_mode='categorical', \n",
        "                                      batch_size=8)"
      ]
    },
    {
      "cell_type": "code",
      "execution_count": null,
      "metadata": {
        "id": "fg7Q_9Zj879m"
      },
      "outputs": [],
      "source": [
        "train.class_indices"
      ]
    },
    {
      "cell_type": "code",
      "execution_count": null,
      "metadata": {
        "id": "2vf5OmAM4sgC"
      },
      "outputs": [],
      "source": [
        "# CNN\n",
        "\n",
        "from tensorflow.keras.layers import Convolution2D,MaxPooling2D,Flatten,Dense\n",
        "from tensorflow.keras.models import Sequential"
      ]
    },
    {
      "cell_type": "code",
      "execution_count": null,
      "metadata": {
        "id": "r3xh_Gmp6o1o"
      },
      "outputs": [],
      "source": [
        "model = Sequential()\n",
        "model.add(Convolution2D(20,(3,3),activation='relu',input_shape=(120, 120, 3)))\n",
        "model.add(MaxPooling2D(pool_size=(2,2)))\n",
        "model.add(Flatten())\n",
        "model.add(Dense(45,activation='relu'))\n",
        "model.add(Dense(16,activation='softmax'))"
      ]
    },
    {
      "cell_type": "code",
      "execution_count": null,
      "metadata": {
        "id": "SEj1_-VG8SNi"
      },
      "outputs": [],
      "source": [
        "model.compile(optimizer='adam',loss='categorical_crossentropy',metrics=['accuracy'])"
      ]
    },
    {
      "cell_type": "code",
      "execution_count": null,
      "metadata": {
        "colab": {
          "base_uri": "https://localhost:8080/"
        },
        "id": "cjpZ5Wq-8SeP",
        "outputId": "efb4c892-25a6-473c-8661-4b8ae46d2d8a"
      },
      "outputs": [
        {
          "name": "stdout",
          "output_type": "stream",
          "text": [
            "Epoch 1/10\n",
            "19/19 [==============================] - 73s 4s/step - loss: 6.3557 - accuracy: 0.1133 - val_loss: 3.5436 - val_accuracy: 0.0764\n",
            "Epoch 2/10\n",
            "19/19 [==============================] - 70s 4s/step - loss: 2.7867 - accuracy: 0.1133 - val_loss: 2.7655 - val_accuracy: 0.0828\n",
            "Epoch 3/10\n",
            "19/19 [==============================] - 70s 4s/step - loss: 2.5095 - accuracy: 0.2000 - val_loss: 2.7716 - val_accuracy: 0.0892\n",
            "Epoch 4/10\n",
            "19/19 [==============================] - 112s 6s/step - loss: 2.3572 - accuracy: 0.2267 - val_loss: 2.7519 - val_accuracy: 0.1465\n",
            "Epoch 5/10\n",
            "19/19 [==============================] - 77s 4s/step - loss: 2.2673 - accuracy: 0.2733 - val_loss: 2.7672 - val_accuracy: 0.1146\n",
            "Epoch 6/10\n",
            "19/19 [==============================] - 113s 6s/step - loss: 2.1168 - accuracy: 0.2933 - val_loss: 2.8130 - val_accuracy: 0.0828\n",
            "Epoch 7/10\n",
            "19/19 [==============================] - 76s 4s/step - loss: 2.0693 - accuracy: 0.3533 - val_loss: 2.7647 - val_accuracy: 0.1274\n",
            "Epoch 8/10\n",
            "19/19 [==============================] - 77s 4s/step - loss: 2.0192 - accuracy: 0.3733 - val_loss: 2.7587 - val_accuracy: 0.1274\n",
            "Epoch 9/10\n",
            "19/19 [==============================] - 75s 4s/step - loss: 1.9367 - accuracy: 0.3667 - val_loss: 2.8376 - val_accuracy: 0.1465\n",
            "Epoch 10/10\n",
            "19/19 [==============================] - 116s 6s/step - loss: 1.8978 - accuracy: 0.4600 - val_loss: 2.9770 - val_accuracy: 0.1146\n"
          ]
        },
        {
          "data": {
            "text/plain": [
              "<keras.callbacks.History at 0x7f03e443b790>"
            ]
          },
          "execution_count": 14,
          "metadata": {},
          "output_type": "execute_result"
        }
      ],
      "source": [
        "model.fit(train,batch_size=8,validation_data=test,epochs=10)\n"
      ]
    },
    {
      "cell_type": "code",
      "execution_count": null,
      "metadata": {
        "colab": {
          "base_uri": "https://localhost:8080/"
        },
        "id": "vdaUWi9nywPJ",
        "outputId": "2bbba52a-3d18-45ea-8212-fcacd8710884"
      },
      "outputs": [
        {
          "data": {
            "text/plain": [
              "{'blasti': 0,\n",
              " 'bonegl': 1,\n",
              " 'brhkyt': 2,\n",
              " 'cbrtsh': 3,\n",
              " 'cmnmyn': 4,\n",
              " 'gretit': 5,\n",
              " 'hilpig': 6,\n",
              " 'himbul': 7,\n",
              " 'himgri': 8,\n",
              " 'hsparo': 9,\n",
              " 'indvul': 10,\n",
              " 'jglowl': 11,\n",
              " 'lbicrw': 12,\n",
              " 'mgprob': 13,\n",
              " 'rebimg': 14,\n",
              " 'wcrsrt': 15}"
            ]
          },
          "execution_count": 15,
          "metadata": {},
          "output_type": "execute_result"
        }
      ],
      "source": [
        "test.class_indices"
      ]
    },
    {
      "cell_type": "code",
      "execution_count": null,
      "metadata": {
        "id": "4qNi2w8d-SgM"
      },
      "outputs": [],
      "source": [
        "model.save('birds.h5')"
      ]
    },
    {
      "cell_type": "code",
      "execution_count": null,
      "metadata": {
        "id": "jRuFMLNb_yLd"
      },
      "outputs": [],
      "source": [
        "# Testing\n",
        "\n",
        "import numpy as np\n",
        "from tensorflow.keras.preprocessing import image"
      ]
    },
    {
      "cell_type": "code",
      "execution_count": null,
      "metadata": {
        "id": "SSYbNtEK3lDI"
      },
      "outputs": [],
      "source": []
    },
    {
      "cell_type": "code",
      "execution_count": null,
      "metadata": {
        "colab": {
          "base_uri": "https://localhost:8080/"
        },
        "id": "xHFdAD22AZOT",
        "outputId": "67b07950-84b9-493b-8f46-5fc589dd7b4d"
      },
      "outputs": [
        {
          "name": "stdout",
          "output_type": "stream",
          "text": [
            "1/1 [==============================] - 0s 102ms/step\n",
            "1\n",
            "bonegl\n"
          ]
        }
      ],
      "source": [
        "# Testing 1\n",
        "img1 = image.load_img('/content/test_data/test_data/cbrtsh/_D32_10310.jpg',target_size=(120,120))\n",
        "img1 = image.img_to_array(img1)\n",
        "img1 = np.expand_dims(img1,axis=0)\n",
        "pred = np.argmax(model.predict(img1))\n",
        "print(pred)\n",
        "output = ['blasti','bonegl','brhkyt','cbrtsh','cmnmyn','gretit','hilpig','himbul','hsparo','indvul','jglowl','lbicrw','mgprob','rebimg','wcrsrt']\n",
        "print(output[pred])"
      ]
    },
    {
      "cell_type": "code",
      "execution_count": null,
      "metadata": {
        "colab": {
          "base_uri": "https://localhost:8080/"
        },
        "id": "0URUHxoMAzNN",
        "outputId": "c9758199-7649-43b6-9259-7203baa34b67"
      },
      "outputs": [
        {
          "name": "stdout",
          "output_type": "stream",
          "text": [
            "1/1 [==============================] - 0s 19ms/step\n",
            "10\n",
            "jglowl\n"
          ]
        }
      ],
      "source": [
        "# Testing 2\n",
        "img2 = image.load_img('/content/test_data/test_data/brhkyt/D72_0473.jpg',target_size=(120,120))\n",
        "img2 = image.img_to_array(img2)\n",
        "img2 = np.expand_dims(img2,axis=0)\n",
        "pred = np.argmax(model.predict(img2))\n",
        "print(pred)\n",
        "output = ['blasti','bonegl','brhkyt','cbrtsh','cmnmyn','gretit','hilpig','himbul','hsparo','indvul','jglowl','lbicrw','mgprob','rebimg','wcrsrt']\n",
        "\n",
        "print(output[pred])"
      ]
    },
    {
      "cell_type": "code",
      "execution_count": null,
      "metadata": {
        "colab": {
          "base_uri": "https://localhost:8080/"
        },
        "id": "EmKsI-5-A0Ip",
        "outputId": "e4d09bd6-5799-41bd-a623-066656e18f29"
      },
      "outputs": [
        {
          "name": "stdout",
          "output_type": "stream",
          "text": [
            "1/1 [==============================] - 0s 20ms/step\n",
            "1\n",
            "bonegl\n"
          ]
        }
      ],
      "source": [
        "# Testing 3\n",
        "img3 = image.load_img('/content/test_data/test_data/bonegl/DSC_4587.jpg',target_size=(120,120))\n",
        "img3 = image.img_to_array(img3)\n",
        "img3 = np.expand_dims(img3,axis=0)\n",
        "pred = np.argmax(model.predict(img3))\n",
        "output = ['blasti','bonegl','brhkyt','cbrtsh','cmnmyn','gretit','hilpig','himbul','hsparo','indvul','jglowl','lbicrw','mgprob','rebimg','wcrsrt']\n",
        "\n",
        "print(pred)\n",
        "\n",
        "print(output[pred])"
      ]
    },
    {
      "cell_type": "code",
      "execution_count": null,
      "metadata": {
        "colab": {
          "base_uri": "https://localhost:8080/"
        },
        "id": "s_6xPYiHBJa_",
        "outputId": "be34b008-1a6b-4951-d7d9-0424804ae21c"
      },
      "outputs": [
        {
          "name": "stdout",
          "output_type": "stream",
          "text": [
            "1/1 [==============================] - 0s 20ms/step\n",
            "1\n",
            "bonegl\n"
          ]
        }
      ],
      "source": [
        "# Testing 4\n",
        "img4 = image.load_img('/content/test_data/test_data/blasti/DSC_6396.jpg',target_size=(120,120))\n",
        "img4 = image.img_to_array(img4)\n",
        "img4 = np.expand_dims(img4,axis=0)\n",
        "pred = np.argmax(model.predict(img4))\n",
        "print(pred)\n",
        "output = ['blasti','bonegl','brhkyt','cbrtsh','cmnmyn','gretit','hilpig','himbul','hsparo','indvul','jglowl','lbicrw','mgprob','rebimg','wcrsrt']\n",
        "print(output[pred])"
      ]
    },
    {
      "cell_type": "code",
      "execution_count": null,
      "metadata": {
        "colab": {
          "base_uri": "https://localhost:8080/"
        },
        "id": "EX1-1mDeWwZK",
        "outputId": "4cb9209a-d2df-43c2-d4ff-0bb740816e4d"
      },
      "outputs": [
        {
          "name": "stdout",
          "output_type": "stream",
          "text": [
            "1/1 [==============================] - 0s 19ms/step\n",
            "7\n",
            "himbul\n"
          ]
        }
      ],
      "source": [
        "# Testing 5\n",
        "img5 = image.load_img('/content/test_data/test_data/rebimg/100_5756.JPG',target_size=(120,120))\n",
        "img5 = image.img_to_array(img5)\n",
        "img5 = np.expand_dims(img5,axis=0)\n",
        "pred = np.argmax(model.predict(img5))\n",
        "print(pred)\n",
        "output = ['blasti','bonegl','brhkyt','cbrtsh','cmnmyn','gretit','hilpig','himbul','hsparo','indvul','jglowl','lbicrw','mgprob','rebimg','wcrsrt']\n",
        "print(output[pred])"
      ]
    },
    {
      "cell_type": "code",
      "execution_count": null,
      "metadata": {
        "colab": {
          "base_uri": "https://localhost:8080/"
        },
        "id": "UJcONzlU8GbL",
        "outputId": "58463818-5f6a-46b2-ab8d-073ec356bd23"
      },
      "outputs": [
        {
          "name": "stdout",
          "output_type": "stream",
          "text": [
            "1/1 [==============================] - 0s 20ms/step\n",
            "1\n",
            "bonegl\n"
          ]
        }
      ],
      "source": [
        "img6 = image.load_img('/content/test_data/test_data/jglowl/_D32_10587.jpg',target_size=(120,120))\n",
        "img6 = image.img_to_array(img6)\n",
        "img6 = np.expand_dims(img6,axis=0)\n",
        "pred = np.argmax(model.predict(img6))\n",
        "print(pred)\n",
        "output = ['blasti','bonegl','brhkyt','cbrtsh','cmnmyn','gretit','hilpig','himbul','hsparo','indvul','jglowl','lbicrw','mgprob','rebimg','wcrsrt']\n",
        "print(output[pred])"
      ]
    },
    {
      "cell_type": "code",
      "execution_count": null,
      "metadata": {
        "colab": {
          "base_uri": "https://localhost:8080/"
        },
        "id": "CKsIoe4A8nFI",
        "outputId": "92ceee96-a001-4408-b9ea-49422b6c5564"
      },
      "outputs": [
        {
          "name": "stdout",
          "output_type": "stream",
          "text": [
            "1/1 [==============================] - 0s 22ms/step\n",
            "1\n",
            "bonegl\n"
          ]
        }
      ],
      "source": [
        "img7 = image.load_img('/content/test_data/test_data/cmnmyn/DSC_2443.jpg',target_size=(120,120))\n",
        "img7 = image.img_to_array(img7)\n",
        "img7 = np.expand_dims(img7,axis=0)\n",
        "pred = np.argmax(model.predict(img7))\n",
        "print(pred)\n",
        "output = ['blasti','bonegl','brhkyt','cbrtsh','cmnmyn','gretit','hilpig','himbul','hsparo','indvul','jglowl','lbicrw','mgprob','rebimg','wcrsrt']\n",
        "print(output[pred])"
      ]
    },
    {
      "cell_type": "code",
      "execution_count": null,
      "metadata": {
        "colab": {
          "base_uri": "https://localhost:8080/"
        },
        "id": "67KL2qXQ8pxj",
        "outputId": "d30fee9c-e2a6-464c-d4d6-3c74379bdf76"
      },
      "outputs": [
        {
          "name": "stdout",
          "output_type": "stream",
          "text": [
            "1/1 [==============================] - 0s 19ms/step\n",
            "1\n",
            "bonegl\n"
          ]
        }
      ],
      "source": [
        "img8 = image.load_img('/content/test_data/test_data/gretit/D72_0693.jpg',target_size=(120,120))\n",
        "img8 = image.img_to_array(img8)\n",
        "img8 = np.expand_dims(img8,axis=0)\n",
        "pred = np.argmax(model.predict(img8))\n",
        "print(pred)\n",
        "output = ['blasti','bonegl','brhkyt','cbrtsh','cmnmyn','gretit','hilpig','himbul','hsparo','indvul','jglowl','lbicrw','mgprob','rebimg','wcrsrt']\n",
        "print(output[pred])"
      ]
    },
    {
      "cell_type": "code",
      "execution_count": null,
      "metadata": {
        "colab": {
          "base_uri": "https://localhost:8080/"
        },
        "id": "XjX-uGuZ8tYp",
        "outputId": "15cd82cc-ba00-473b-e130-5c35523a5948"
      },
      "outputs": [
        {
          "name": "stdout",
          "output_type": "stream",
          "text": [
            "1/1 [==============================] - 0s 24ms/step\n",
            "1\n",
            "bonegl\n"
          ]
        }
      ],
      "source": [
        "img9 = image.load_img('/content/test_data/test_data/hilpig/DSC_6359.jpg',target_size=(120,120))\n",
        "img9 = image.img_to_array(img9)\n",
        "img9 = np.expand_dims(img9,axis=0)\n",
        "pred = np.argmax(model.predict(img9))\n",
        "print(pred)\n",
        "output = ['blasti','bonegl','brhkyt','cbrtsh','cmnmyn','gretit','hilpig','himbul','hsparo','indvul','jglowl','lbicrw','mgprob','rebimg','wcrsrt']\n",
        "print(output[pred])"
      ]
    },
    {
      "cell_type": "code",
      "execution_count": null,
      "metadata": {
        "colab": {
          "base_uri": "https://localhost:8080/"
        },
        "id": "wgtTXWRu8v9s",
        "outputId": "5061a376-8f06-48c7-b9b1-9a7adc0c746e"
      },
      "outputs": [
        {
          "name": "stdout",
          "output_type": "stream",
          "text": [
            "1/1 [==============================] - 0s 20ms/step\n",
            "1\n",
            "bonegl\n"
          ]
        }
      ],
      "source": [
        "img10 = image.load_img('/content/test_data/test_data/himbul/_D32_10242.jpg',target_size=(120,120))\n",
        "img10 = image.img_to_array(img10)\n",
        "img10 = np.expand_dims(img10,axis=0)\n",
        "pred = np.argmax(model.predict(img10))\n",
        "print(pred)\n",
        "output = ['blasti','bonegl','brhkyt','cbrtsh','cmnmyn','gretit','hilpig','himbul','hsparo','indvul','jglowl','lbicrw','mgprob','rebimg','wcrsrt']\n",
        "print(output[pred])"
      ]
    },
    {
      "cell_type": "code",
      "execution_count": null,
      "metadata": {
        "colab": {
          "base_uri": "https://localhost:8080/"
        },
        "id": "dXoUXe-X807h",
        "outputId": "7bf5c78f-2244-4de2-c5e3-ca8495aaee0c"
      },
      "outputs": [
        {
          "name": "stdout",
          "output_type": "stream",
          "text": [
            "1/1 [==============================] - 0s 21ms/step\n",
            "10\n",
            "jglowl\n"
          ]
        }
      ],
      "source": [
        "img11 = image.load_img('/content/test_data/test_data/himgri/IMG_5384.JPG',target_size=(120,120))\n",
        "img11 = image.img_to_array(img11)\n",
        "img11 = np.expand_dims(img11,axis=0)\n",
        "pred = np.argmax(model.predict(img11))\n",
        "print(pred)\n",
        "output = ['blasti','bonegl','brhkyt','cbrtsh','cmnmyn','gretit','hilpig','himbul','hsparo','indvul','jglowl','lbicrw','mgprob','rebimg','wcrsrt']\n",
        "print(output[pred])"
      ]
    },
    {
      "cell_type": "code",
      "execution_count": null,
      "metadata": {
        "colab": {
          "base_uri": "https://localhost:8080/"
        },
        "id": "STmYVzwC819v",
        "outputId": "1bd07883-f48a-47ef-c239-cceb950ad75a"
      },
      "outputs": [
        {
          "name": "stdout",
          "output_type": "stream",
          "text": [
            "1/1 [==============================] - 0s 20ms/step\n",
            "1\n",
            "bonegl\n"
          ]
        }
      ],
      "source": [
        "img12 = image.load_img('/content/test_data/test_data/hsparo/DSC_4521.jpg',target_size=(120,120))\n",
        "img12 = image.img_to_array(img12)\n",
        "img12 = np.expand_dims(img12,axis=0)\n",
        "pred = np.argmax(model.predict(img12))\n",
        "print(pred)\n",
        "output = ['blasti','bonegl','brhkyt','cbrtsh','cmnmyn','gretit','hilpig','himbul','hsparo','indvul','jglowl','lbicrw','mgprob','rebimg','wcrsrt']\n",
        "print(output[pred])"
      ]
    },
    {
      "cell_type": "code",
      "execution_count": null,
      "metadata": {
        "colab": {
          "base_uri": "https://localhost:8080/"
        },
        "id": "HU74Rze282-5",
        "outputId": "cab11fef-dcfe-42ac-b82f-67caa9271a09"
      },
      "outputs": [
        {
          "name": "stdout",
          "output_type": "stream",
          "text": [
            "1/1 [==============================] - 0s 20ms/step\n",
            "10\n",
            "jglowl\n"
          ]
        }
      ],
      "source": [
        "img13 = image.load_img('/content/test_data/test_data/indvul/DSC_1263.jpg',target_size=(120,120))\n",
        "img13 = image.img_to_array(img13)\n",
        "img13 = np.expand_dims(img13,axis=0)\n",
        "pred = np.argmax(model.predict(img13))\n",
        "print(pred)\n",
        "output = ['blasti','bonegl','brhkyt','cbrtsh','cmnmyn','gretit','hilpig','himbul','hsparo','indvul','jglowl','lbicrw','mgprob','rebimg','wcrsrt']\n",
        "print(output[pred])"
      ]
    },
    {
      "cell_type": "code",
      "execution_count": null,
      "metadata": {
        "colab": {
          "base_uri": "https://localhost:8080/"
        },
        "id": "PJcJQcWv8381",
        "outputId": "dca3ee18-0da1-4f04-e0ed-3ed73da9d8c4"
      },
      "outputs": [
        {
          "name": "stdout",
          "output_type": "stream",
          "text": [
            "1/1 [==============================] - 0s 20ms/step\n",
            "10\n",
            "jglowl\n"
          ]
        }
      ],
      "source": [
        "img14 = image.load_img('/content/test_data/test_data/lbicrw/100_4917.JPG',target_size=(120,120))\n",
        "img14 = image.img_to_array(img14)\n",
        "img14 = np.expand_dims(img14,axis=0)\n",
        "pred = np.argmax(model.predict(img14))\n",
        "print(pred)\n",
        "output = ['blasti','bonegl','brhkyt','cbrtsh','cmnmyn','gretit','hilpig','himbul','hsparo','indvul','jglowl','lbicrw','mgprob','rebimg','wcrsrt']\n",
        "print(output[pred])"
      ]
    },
    {
      "attachments": {},
      "cell_type": "markdown",
      "metadata": {
        "id": "o6dc3xkZ6D-T"
      },
      "source": [
        "# Model tuning (Adding feature extraction layers)"
      ]
    },
    {
      "cell_type": "code",
      "execution_count": null,
      "metadata": {
        "id": "3CO4_V_TBcDd"
      },
      "outputs": [],
      "source": [
        "model = Sequential()\n",
        "model.add(Convolution2D(12,(3,3),activation='relu',input_shape=(120, 120, 3)))\n",
        "model.add(MaxPooling2D(pool_size=(2,2)))\n",
        "model.add(Convolution2D(24,(3,3),activation='relu'))\n",
        "model.add(MaxPooling2D(pool_size=(2,2)))\n",
        "model.add(Convolution2D(36,(3,3),activation='relu'))\n",
        "model.add(MaxPooling2D(pool_size=(2,2)))\n",
        "model.add(Flatten())\n",
        "model.add(Dense(62,activation='relu'))\n",
        "model.add(Dense(32,activation='relu'))\n",
        "model.add(Dense(16,activation='relu'))\n",
        "model.add(Dense(16,activation='softmax'))"
      ]
    },
    {
      "cell_type": "code",
      "execution_count": null,
      "metadata": {
        "colab": {
          "base_uri": "https://localhost:8080/"
        },
        "id": "uqQyuPFMBnm9",
        "outputId": "ad695213-dd7e-4fba-e651-eb72a2faa95b"
      },
      "outputs": [
        {
          "name": "stdout",
          "output_type": "stream",
          "text": [
            "Model: \"sequential_1\"\n",
            "_________________________________________________________________\n",
            " Layer (type)                Output Shape              Param #   \n",
            "=================================================================\n",
            " conv2d_1 (Conv2D)           (None, 118, 118, 12)      336       \n",
            "                                                                 \n",
            " max_pooling2d_1 (MaxPooling  (None, 59, 59, 12)       0         \n",
            " 2D)                                                             \n",
            "                                                                 \n",
            " conv2d_2 (Conv2D)           (None, 57, 57, 24)        2616      \n",
            "                                                                 \n",
            " max_pooling2d_2 (MaxPooling  (None, 28, 28, 24)       0         \n",
            " 2D)                                                             \n",
            "                                                                 \n",
            " conv2d_3 (Conv2D)           (None, 26, 26, 36)        7812      \n",
            "                                                                 \n",
            " max_pooling2d_3 (MaxPooling  (None, 13, 13, 36)       0         \n",
            " 2D)                                                             \n",
            "                                                                 \n",
            " flatten_1 (Flatten)         (None, 6084)              0         \n",
            "                                                                 \n",
            " dense_2 (Dense)             (None, 62)                377270    \n",
            "                                                                 \n",
            " dense_3 (Dense)             (None, 32)                2016      \n",
            "                                                                 \n",
            " dense_4 (Dense)             (None, 16)                528       \n",
            "                                                                 \n",
            " dense_5 (Dense)             (None, 16)                272       \n",
            "                                                                 \n",
            "=================================================================\n",
            "Total params: 390,850\n",
            "Trainable params: 390,850\n",
            "Non-trainable params: 0\n",
            "_________________________________________________________________\n"
          ]
        }
      ],
      "source": [
        "model.summary()"
      ]
    },
    {
      "cell_type": "code",
      "execution_count": null,
      "metadata": {
        "id": "Q_ErnmHt7z4H"
      },
      "outputs": [],
      "source": [
        "model.compile(optimizer='adam',loss='categorical_crossentropy',metrics=['accuracy'])"
      ]
    },
    {
      "cell_type": "code",
      "execution_count": null,
      "metadata": {
        "colab": {
          "base_uri": "https://localhost:8080/"
        },
        "id": "U7c-_5378Pi5",
        "outputId": "9d27df2e-671b-49a3-9184-8d1addcd1666"
      },
      "outputs": [
        {
          "name": "stdout",
          "output_type": "stream",
          "text": [
            "Epoch 1/50\n",
            "19/19 [==============================] - 77s 4s/step - loss: 2.7217 - accuracy: 0.1333 - val_loss: 2.7180 - val_accuracy: 0.1274\n",
            "Epoch 2/50\n",
            "19/19 [==============================] - 115s 6s/step - loss: 2.6559 - accuracy: 0.1333 - val_loss: 2.8011 - val_accuracy: 0.1274\n",
            "Epoch 3/50\n",
            "19/19 [==============================] - 116s 6s/step - loss: 2.5578 - accuracy: 0.1267 - val_loss: 2.8321 - val_accuracy: 0.1274\n",
            "Epoch 4/50\n",
            "19/19 [==============================] - 73s 4s/step - loss: 2.5091 - accuracy: 0.1400 - val_loss: 2.8746 - val_accuracy: 0.1274\n",
            "Epoch 5/50\n",
            "19/19 [==============================] - 72s 4s/step - loss: 2.5602 - accuracy: 0.1733 - val_loss: 2.7176 - val_accuracy: 0.1019\n",
            "Epoch 6/50\n",
            "19/19 [==============================] - 78s 4s/step - loss: 2.4129 - accuracy: 0.2133 - val_loss: 2.7144 - val_accuracy: 0.1529\n",
            "Epoch 7/50\n",
            "19/19 [==============================] - 116s 6s/step - loss: 2.3584 - accuracy: 0.2467 - val_loss: 2.7887 - val_accuracy: 0.1529\n",
            "Epoch 8/50\n",
            "19/19 [==============================] - 73s 4s/step - loss: 2.2823 - accuracy: 0.3333 - val_loss: 2.8983 - val_accuracy: 0.1465\n",
            "Epoch 9/50\n",
            "19/19 [==============================] - 73s 4s/step - loss: 2.3772 - accuracy: 0.2733 - val_loss: 2.8343 - val_accuracy: 0.1592\n",
            "Epoch 10/50\n",
            "19/19 [==============================] - 72s 4s/step - loss: 2.2429 - accuracy: 0.3067 - val_loss: 2.8210 - val_accuracy: 0.1783\n",
            "Epoch 11/50\n",
            "19/19 [==============================] - 72s 4s/step - loss: 2.1249 - accuracy: 0.3267 - val_loss: 2.7826 - val_accuracy: 0.2611\n",
            "Epoch 12/50\n",
            "19/19 [==============================] - 72s 4s/step - loss: 2.0471 - accuracy: 0.3267 - val_loss: 2.8569 - val_accuracy: 0.2038\n",
            "Epoch 13/50\n",
            "19/19 [==============================] - 112s 6s/step - loss: 2.1112 - accuracy: 0.3133 - val_loss: 2.8444 - val_accuracy: 0.2229\n",
            "Epoch 14/50\n",
            "19/19 [==============================] - 71s 4s/step - loss: 2.0064 - accuracy: 0.3867 - val_loss: 2.7702 - val_accuracy: 0.2102\n",
            "Epoch 15/50\n",
            "19/19 [==============================] - 71s 4s/step - loss: 1.7737 - accuracy: 0.4133 - val_loss: 2.8435 - val_accuracy: 0.2357\n",
            "Epoch 16/50\n",
            "19/19 [==============================] - 71s 4s/step - loss: 1.7898 - accuracy: 0.4400 - val_loss: 2.9658 - val_accuracy: 0.2357\n",
            "Epoch 17/50\n",
            "19/19 [==============================] - 73s 4s/step - loss: 1.8024 - accuracy: 0.4867 - val_loss: 2.8530 - val_accuracy: 0.2229\n",
            "Epoch 18/50\n",
            "19/19 [==============================] - 113s 6s/step - loss: 1.5857 - accuracy: 0.4800 - val_loss: 3.1401 - val_accuracy: 0.1783\n",
            "Epoch 19/50\n",
            "19/19 [==============================] - 73s 4s/step - loss: 1.4448 - accuracy: 0.5067 - val_loss: 2.9348 - val_accuracy: 0.2484\n",
            "Epoch 20/50\n",
            "19/19 [==============================] - 112s 6s/step - loss: 1.3660 - accuracy: 0.5333 - val_loss: 3.3906 - val_accuracy: 0.1847\n",
            "Epoch 21/50\n",
            "19/19 [==============================] - 72s 4s/step - loss: 1.2635 - accuracy: 0.6333 - val_loss: 3.6956 - val_accuracy: 0.2293\n",
            "Epoch 22/50\n",
            "19/19 [==============================] - 71s 4s/step - loss: 1.3599 - accuracy: 0.5600 - val_loss: 3.1224 - val_accuracy: 0.1911\n",
            "Epoch 23/50\n",
            "19/19 [==============================] - 71s 4s/step - loss: 1.2682 - accuracy: 0.5933 - val_loss: 3.5443 - val_accuracy: 0.2484\n",
            "Epoch 24/50\n",
            "19/19 [==============================] - 73s 4s/step - loss: 1.1290 - accuracy: 0.6000 - val_loss: 3.5232 - val_accuracy: 0.1592\n",
            "Epoch 25/50\n",
            "19/19 [==============================] - 71s 4s/step - loss: 0.9639 - accuracy: 0.6533 - val_loss: 3.6311 - val_accuracy: 0.2293\n",
            "Epoch 26/50\n",
            "19/19 [==============================] - 72s 4s/step - loss: 1.0629 - accuracy: 0.6333 - val_loss: 4.0058 - val_accuracy: 0.2293\n",
            "Epoch 27/50\n",
            "19/19 [==============================] - 71s 4s/step - loss: 1.2346 - accuracy: 0.6400 - val_loss: 3.2493 - val_accuracy: 0.2357\n",
            "Epoch 28/50\n",
            "19/19 [==============================] - 73s 4s/step - loss: 0.9273 - accuracy: 0.6800 - val_loss: 3.5847 - val_accuracy: 0.2739\n",
            "Epoch 29/50\n",
            "19/19 [==============================] - 72s 4s/step - loss: 0.7120 - accuracy: 0.7467 - val_loss: 4.1015 - val_accuracy: 0.3248\n",
            "Epoch 30/50\n",
            "19/19 [==============================] - 73s 4s/step - loss: 0.5941 - accuracy: 0.8333 - val_loss: 4.6790 - val_accuracy: 0.2166\n",
            "Epoch 31/50\n",
            "19/19 [==============================] - 72s 4s/step - loss: 0.6081 - accuracy: 0.8000 - val_loss: 4.8665 - val_accuracy: 0.2484\n",
            "Epoch 32/50\n",
            "19/19 [==============================] - 71s 4s/step - loss: 0.4835 - accuracy: 0.8467 - val_loss: 4.7785 - val_accuracy: 0.2866\n",
            "Epoch 33/50\n",
            "19/19 [==============================] - 71s 4s/step - loss: 0.6024 - accuracy: 0.7933 - val_loss: 5.6535 - val_accuracy: 0.3057\n",
            "Epoch 34/50\n",
            "19/19 [==============================] - 71s 4s/step - loss: 0.4764 - accuracy: 0.8267 - val_loss: 5.0633 - val_accuracy: 0.3503\n",
            "Epoch 35/50\n",
            "19/19 [==============================] - 72s 4s/step - loss: 0.5219 - accuracy: 0.8067 - val_loss: 5.1475 - val_accuracy: 0.2548\n",
            "Epoch 36/50\n",
            "19/19 [==============================] - 71s 4s/step - loss: 0.3983 - accuracy: 0.8867 - val_loss: 5.3044 - val_accuracy: 0.3376\n",
            "Epoch 37/50\n",
            "19/19 [==============================] - 72s 4s/step - loss: 0.4595 - accuracy: 0.8267 - val_loss: 5.5333 - val_accuracy: 0.2866\n",
            "Epoch 38/50\n",
            "19/19 [==============================] - 72s 4s/step - loss: 0.5179 - accuracy: 0.8400 - val_loss: 5.2095 - val_accuracy: 0.2803\n",
            "Epoch 39/50\n",
            "19/19 [==============================] - 71s 4s/step - loss: 0.3478 - accuracy: 0.8733 - val_loss: 5.5057 - val_accuracy: 0.3121\n",
            "Epoch 40/50\n",
            "19/19 [==============================] - 73s 4s/step - loss: 0.5506 - accuracy: 0.8267 - val_loss: 5.4540 - val_accuracy: 0.2675\n",
            "Epoch 41/50\n",
            "19/19 [==============================] - 71s 4s/step - loss: 0.5258 - accuracy: 0.7933 - val_loss: 5.2312 - val_accuracy: 0.2166\n",
            "Epoch 42/50\n",
            "19/19 [==============================] - 72s 4s/step - loss: 0.3698 - accuracy: 0.8667 - val_loss: 5.3944 - val_accuracy: 0.3121\n",
            "Epoch 43/50\n",
            "19/19 [==============================] - 72s 4s/step - loss: 0.2047 - accuracy: 0.9467 - val_loss: 5.4664 - val_accuracy: 0.2930\n",
            "Epoch 44/50\n",
            "19/19 [==============================] - 73s 4s/step - loss: 0.1114 - accuracy: 0.9933 - val_loss: 6.0087 - val_accuracy: 0.3248\n",
            "Epoch 45/50\n",
            "19/19 [==============================] - 72s 4s/step - loss: 0.1006 - accuracy: 0.9800 - val_loss: 6.4268 - val_accuracy: 0.3439\n",
            "Epoch 46/50\n",
            "19/19 [==============================] - 72s 4s/step - loss: 0.0715 - accuracy: 0.9933 - val_loss: 6.9617 - val_accuracy: 0.3439\n",
            "Epoch 47/50\n",
            "19/19 [==============================] - 113s 6s/step - loss: 0.0597 - accuracy: 0.9933 - val_loss: 7.1205 - val_accuracy: 0.3057\n",
            "Epoch 48/50\n",
            "19/19 [==============================] - 72s 4s/step - loss: 0.0553 - accuracy: 0.9867 - val_loss: 7.4879 - val_accuracy: 0.3185\n",
            "Epoch 49/50\n",
            "19/19 [==============================] - 71s 4s/step - loss: 0.0382 - accuracy: 1.0000 - val_loss: 7.5791 - val_accuracy: 0.3439\n",
            "Epoch 50/50\n",
            "19/19 [==============================] - 72s 4s/step - loss: 0.0318 - accuracy: 1.0000 - val_loss: 7.9304 - val_accuracy: 0.3312\n"
          ]
        },
        {
          "data": {
            "text/plain": [
              "<keras.callbacks.History at 0x7f03e0e44cd0>"
            ]
          },
          "execution_count": 45,
          "metadata": {},
          "output_type": "execute_result"
        }
      ],
      "source": [
        "model.fit(train,batch_size=8,validation_data=test,epochs=50)"
      ]
    },
    {
      "cell_type": "code",
      "execution_count": null,
      "metadata": {
        "colab": {
          "base_uri": "https://localhost:8080/"
        },
        "id": "b7R-FM07_cqn",
        "outputId": "b1d10256-8290-4397-960e-6c6f168f73d5"
      },
      "outputs": [
        {
          "name": "stdout",
          "output_type": "stream",
          "text": [
            "1/1 [==============================] - 0s 76ms/step\n",
            "2\n",
            "brhkyt\n"
          ]
        }
      ],
      "source": [
        "# Testing 1\n",
        "img1 = image.load_img('/content/100_4462.JPG',target_size=(120,120))\n",
        "img1 = image.img_to_array(img1)\n",
        "img1 = np.expand_dims(img1,axis=0)\n",
        "pred = np.argmax(model.predict(img1))\n",
        "print(pred)\n",
        "output = ['blasti','bonegl','brhkyt','cbrtsh','cmnmyn','gretit','hilpig','himbul','hsparo','indvul','jglowl','lbicrw','mgprob','rebimg','wcrsrt']\n",
        "print(output[pred])"
      ]
    },
    {
      "cell_type": "code",
      "execution_count": null,
      "metadata": {
        "colab": {
          "base_uri": "https://localhost:8080/"
        },
        "id": "YMg0yI3cnmDa",
        "outputId": "6d32886a-42ef-413d-e343-ec497b6850e9"
      },
      "outputs": [
        {
          "name": "stdout",
          "output_type": "stream",
          "text": [
            "1/1 [==============================] - 0s 20ms/step\n",
            "7\n",
            "himbul\n"
          ]
        }
      ],
      "source": [
        "# Testing 3\n",
        "img3 = image.load_img('/content/100_5756.JPG',target_size=(120,120))\n",
        "img3 = image.img_to_array(img3)\n",
        "img3 = np.expand_dims(img3,axis=0)\n",
        "pred = np.argmax(model.predict(img3))\n",
        "output = ['blasti','bonegl','brhkyt','cbrtsh','cmnmyn','gretit','hilpig','himbul','hsparo','indvul','jglowl','lbicrw','mgprob','rebimg','wcrsrt']\n",
        "\n",
        "print(pred)\n",
        "\n",
        "print(output[pred])"
      ]
    },
    {
      "cell_type": "code",
      "execution_count": null,
      "metadata": {
        "colab": {
          "base_uri": "https://localhost:8080/"
        },
        "id": "-9R5O9ZwnuSd",
        "outputId": "fa3551e8-81c5-4f38-bc38-61b69c80b1b9"
      },
      "outputs": [
        {
          "name": "stdout",
          "output_type": "stream",
          "text": [
            "1/1 [==============================] - 0s 24ms/step\n",
            "9\n",
            "indvul\n"
          ]
        }
      ],
      "source": [
        "# Testing 5\n",
        "img5 = image.load_img('/content/100_5573.JPG',target_size=(120,120))\n",
        "img5 = image.img_to_array(img5)\n",
        "img5 = np.expand_dims(img5,axis=0)\n",
        "pred = np.argmax(model.predict(img5))\n",
        "print(pred)\n",
        "output = ['blasti','bonegl','brhkyt','cbrtsh','cmnmyn','gretit','hilpig','himbul','hsparo','indvul','jglowl','lbicrw','mgprob','rebimg','wcrsrt']\n",
        "print(output[pred])"
      ]
    },
    {
      "cell_type": "code",
      "execution_count": null,
      "metadata": {
        "colab": {
          "base_uri": "https://localhost:8080/"
        },
        "id": "QageKOu8BROS",
        "outputId": "1719df44-2368-44d1-cdd3-5869892a2ce0"
      },
      "outputs": [
        {
          "name": "stdout",
          "output_type": "stream",
          "text": [
            "1/1 [==============================] - 0s 19ms/step\n",
            "1\n",
            "bonegl\n"
          ]
        }
      ],
      "source": [
        "img6 = image.load_img('/content/100_4917.JPG',target_size=(120,120))\n",
        "img6 = image.img_to_array(img6)\n",
        "img6 = np.expand_dims(img6,axis=0)\n",
        "pred = np.argmax(model.predict(img6))\n",
        "print(pred)\n",
        "output = ['blasti','bonegl','brhkyt','cbrtsh','cmnmyn','gretit','hilpig','himbul','hsparo','indvul','jglowl','lbicrw','mgprob','rebimg','wcrsrt']\n",
        "print(output[pred])"
      ]
    },
    {
      "cell_type": "code",
      "execution_count": null,
      "metadata": {
        "colab": {
          "base_uri": "https://localhost:8080/"
        },
        "id": "4OHSMMDCBQWP",
        "outputId": "85044faf-7f20-485d-ac86-c25adcdb9d56"
      },
      "outputs": [
        {
          "name": "stdout",
          "output_type": "stream",
          "text": [
            "1/1 [==============================] - 0s 25ms/step\n",
            "7\n",
            "himbul\n"
          ]
        }
      ],
      "source": [
        "img7 = image.load_img('/content/100_5811.JPG',target_size=(120,120))\n",
        "img7 = image.img_to_array(img7)\n",
        "img7 = np.expand_dims(img7,axis=0)\n",
        "pred = np.argmax(model.predict(img7))\n",
        "print(pred)\n",
        "output = ['blasti','bonegl','brhkyt','cbrtsh','cmnmyn','gretit','hilpig','himbul','hsparo','indvul','jglowl','lbicrw','mgprob','rebimg','wcrsrt']\n",
        "print(output[pred])"
      ]
    },
    {
      "cell_type": "code",
      "execution_count": null,
      "metadata": {
        "colab": {
          "base_uri": "https://localhost:8080/"
        },
        "id": "Q1NuVJ1nBQKf",
        "outputId": "cf51071e-42e4-4afa-a58c-f2cb642999b8"
      },
      "outputs": [
        {
          "name": "stdout",
          "output_type": "stream",
          "text": [
            "1/1 [==============================] - 0s 26ms/step\n",
            "10\n",
            "jglowl\n"
          ]
        }
      ],
      "source": [
        "img8 = image.load_img('/content/IMG_5460.JPG',target_size=(120,120))\n",
        "img8 = image.img_to_array(img8)\n",
        "img8 = np.expand_dims(img8,axis=0)\n",
        "pred = np.argmax(model.predict(img8))\n",
        "print(pred)\n",
        "output = ['blasti','bonegl','brhkyt','cbrtsh','cmnmyn','gretit','hilpig','himbul','hsparo','indvul','jglowl','lbicrw','mgprob','rebimg','wcrsrt']\n",
        "print(output[pred])"
      ]
    },
    {
      "cell_type": "code",
      "execution_count": null,
      "metadata": {
        "colab": {
          "base_uri": "https://localhost:8080/"
        },
        "id": "_wBZp8xrBP-p",
        "outputId": "3b942baf-3407-48c0-d300-35201bcbd3b5"
      },
      "outputs": [
        {
          "name": "stdout",
          "output_type": "stream",
          "text": [
            "1/1 [==============================] - 0s 20ms/step\n",
            "7\n",
            "himbul\n"
          ]
        }
      ],
      "source": [
        "img9 = image.load_img('/content/DSC_2443.jpg',target_size=(120,120))\n",
        "img9 = image.img_to_array(img9)\n",
        "img9 = np.expand_dims(img9,axis=0)\n",
        "pred = np.argmax(model.predict(img9))\n",
        "print(pred)\n",
        "output = ['blasti','bonegl','brhkyt','cbrtsh','cmnmyn','gretit','hilpig','himbul','hsparo','indvul','jglowl','lbicrw','mgprob','rebimg','wcrsrt']\n",
        "print(output[pred])"
      ]
    },
    {
      "cell_type": "code",
      "execution_count": null,
      "metadata": {
        "colab": {
          "base_uri": "https://localhost:8080/"
        },
        "id": "OhQ6UGtQBPyP",
        "outputId": "9cc3edfa-c35a-4da7-8c4b-e87318df16b2"
      },
      "outputs": [
        {
          "name": "stdout",
          "output_type": "stream",
          "text": [
            "1/1 [==============================] - 0s 21ms/step\n",
            "9\n",
            "indvul\n"
          ]
        }
      ],
      "source": [
        "img10 = image.load_img('/content/DSC_6400.jpg',target_size=(120,120))\n",
        "img10 = image.img_to_array(img10)\n",
        "img10 = np.expand_dims(img10,axis=0)\n",
        "pred = np.argmax(model.predict(img10))\n",
        "print(pred)\n",
        "output = ['blasti','bonegl','brhkyt','cbrtsh','cmnmyn','gretit','hilpig','himbul','hsparo','indvul','jglowl','lbicrw','mgprob','rebimg','wcrsrt']\n",
        "print(output[pred])"
      ]
    },
    {
      "cell_type": "code",
      "execution_count": null,
      "metadata": {
        "colab": {
          "base_uri": "https://localhost:8080/"
        },
        "id": "942Y4ZAEBPlg",
        "outputId": "0f3acc48-f83c-46ba-e879-382b9cc7416f"
      },
      "outputs": [
        {
          "name": "stdout",
          "output_type": "stream",
          "text": [
            "1/1 [==============================] - 0s 20ms/step\n",
            "0\n",
            "blasti\n"
          ]
        }
      ],
      "source": [
        "img11 = image.load_img('/content/DSC_6406.jpg',target_size=(120,120))\n",
        "img11 = image.img_to_array(img11)\n",
        "img11 = np.expand_dims(img11,axis=0)\n",
        "pred = np.argmax(model.predict(img11))\n",
        "print(pred)\n",
        "output = ['blasti','bonegl','brhkyt','cbrtsh','cmnmyn','gretit','hilpig','himbul','hsparo','indvul','jglowl','lbicrw','mgprob','rebimg','wcrsrt']\n",
        "print(output[pred])"
      ]
    },
    {
      "cell_type": "code",
      "execution_count": null,
      "metadata": {
        "colab": {
          "base_uri": "https://localhost:8080/"
        },
        "id": "4imKHvL9BPXr",
        "outputId": "33ad5c5d-4871-40ea-c76a-966cbf52efbc"
      },
      "outputs": [
        {
          "name": "stdout",
          "output_type": "stream",
          "text": [
            "1/1 [==============================] - 0s 19ms/step\n",
            "6\n",
            "hilpig\n"
          ]
        }
      ],
      "source": [
        "img12 = image.load_img('/content/DSC_6274.jpg',target_size=(120,120))\n",
        "img12 = image.img_to_array(img12)\n",
        "img12 = np.expand_dims(img12,axis=0)\n",
        "pred = np.argmax(model.predict(img12))\n",
        "print(pred)\n",
        "output = ['blasti','bonegl','brhkyt','cbrtsh','cmnmyn','gretit','hilpig','himbul','hsparo','indvul','jglowl','lbicrw','mgprob','rebimg','wcrsrt']\n",
        "print(output[pred])"
      ]
    },
    {
      "cell_type": "code",
      "execution_count": null,
      "metadata": {
        "colab": {
          "base_uri": "https://localhost:8080/"
        },
        "id": "M7T0WFToBPFm",
        "outputId": "43cf6d29-482e-4601-c7df-1f20b568b88f"
      },
      "outputs": [
        {
          "name": "stdout",
          "output_type": "stream",
          "text": [
            "1/1 [==============================] - 0s 20ms/step\n",
            "5\n",
            "gretit\n"
          ]
        }
      ],
      "source": [
        "img13 = image.load_img('/content/100_5590.JPG',target_size=(120,120))\n",
        "img13 = image.img_to_array(img13)\n",
        "img13 = np.expand_dims(img13,axis=0)\n",
        "pred = np.argmax(model.predict(img13))\n",
        "print(pred)\n",
        "output = ['blasti','bonegl','brhkyt','cbrtsh','cmnmyn','gretit','hilpig','himbul','hsparo','indvul','jglowl','lbicrw','mgprob','rebimg','wcrsrt']\n",
        "print(output[pred])"
      ]
    },
    {
      "cell_type": "code",
      "execution_count": null,
      "metadata": {
        "colab": {
          "base_uri": "https://localhost:8080/"
        },
        "id": "KFx8H7U5BN9V",
        "outputId": "9ea06f3e-854c-445d-bd37-bf6665a2659f"
      },
      "outputs": [
        {
          "name": "stdout",
          "output_type": "stream",
          "text": [
            "1/1 [==============================] - 0s 27ms/step\n",
            "5\n",
            "gretit\n"
          ]
        }
      ],
      "source": [
        "img14 = image.load_img('/content/100_5041.JPG',target_size=(120,120))\n",
        "img14 = image.img_to_array(img14)\n",
        "img14 = np.expand_dims(img14,axis=0)\n",
        "pred = np.argmax(model.predict(img14))\n",
        "print(pred)\n",
        "output = ['blasti','bonegl','brhkyt','cbrtsh','cmnmyn','gretit','hilpig','himbul','hsparo','indvul','jglowl','lbicrw','mgprob','rebimg','wcrsrt']\n",
        "print(output[pred])"
      ]
    },
    {
      "cell_type": "code",
      "execution_count": null,
      "metadata": {
        "colab": {
          "base_uri": "https://localhost:8080/"
        },
        "id": "soWJmGYICUk2",
        "outputId": "fda66f1d-5480-479b-e2c7-70fd8fc462fb"
      },
      "outputs": [
        {
          "name": "stdout",
          "output_type": "stream",
          "text": [
            "1/1 [==============================] - 0s 24ms/step\n",
            "6\n",
            "hilpig\n"
          ]
        }
      ],
      "source": [
        "img15 = image.load_img('/content/DSC_6354.jpg',target_size=(120,120))\n",
        "img15 = image.img_to_array(img15)\n",
        "img15 = np.expand_dims(img15,axis=0)\n",
        "pred = np.argmax(model.predict(img15))\n",
        "print(pred)\n",
        "output = ['blasti','bonegl','brhkyt','cbrtsh','cmnmyn','gretit','hilpig','himbul','hsparo','indvul','jglowl','lbicrw','mgprob','rebimg','wcrsrt']\n",
        "print(output[pred])"
      ]
    },
    {
      "cell_type": "code",
      "execution_count": null,
      "metadata": {
        "colab": {
          "base_uri": "https://localhost:8080/"
        },
        "id": "Zo6QmIdkCghO",
        "outputId": "545182b5-138e-48cf-c4d3-f3d4ee5727a6"
      },
      "outputs": [
        {
          "name": "stdout",
          "output_type": "stream",
          "text": [
            "1/1 [==============================] - 0s 22ms/step\n",
            "7\n",
            "himbul\n"
          ]
        }
      ],
      "source": [
        "img16 = image.load_img('/content/100_5029.JPG',target_size=(120,120))\n",
        "img16 = image.img_to_array(img16)\n",
        "img16 = np.expand_dims(img16,axis=0)\n",
        "pred = np.argmax(model.predict(img16))\n",
        "print(pred)\n",
        "output = ['blasti','bonegl','brhkyt','cbrtsh','cmnmyn','gretit','hilpig','himbul','hsparo','indvul','jglowl','lbicrw','mgprob','rebimg','wcrsrt']\n",
        "print(output[pred])"
      ]
    },
    {
      "attachments": {},
      "cell_type": "markdown",
      "metadata": {
        "id": "zR8NocHcBJ_0"
      },
      "source": [
        "# Model tuning (with dropout, batch normalization & early stopping)"
      ]
    },
    {
      "cell_type": "code",
      "execution_count": null,
      "metadata": {
        "id": "Hv16ieLdCGwG"
      },
      "outputs": [],
      "source": [
        "from tensorflow.keras.layers import BatchNormalization, Dropout"
      ]
    },
    {
      "cell_type": "code",
      "execution_count": null,
      "metadata": {
        "id": "rG5YhT3oBT8C"
      },
      "outputs": [],
      "source": [
        "# Initializing the seq model\n",
        "model = Sequential()\n",
        "# Adding conv layer with input\n",
        "model.add(Convolution2D(12,(3,3),activation='relu',input_shape=(120, 120, 3)))\n",
        "# Normalizing the conv layer output\n",
        "model.add(BatchNormalization())\n",
        "# Selecting the max values\n",
        "model.add(MaxPooling2D(pool_size=(2,2)))\n",
        "# Dropping the unwanted 20% of data\n",
        "model.add(Dropout(0.2))\n",
        "model.add(Convolution2D(24,(3,3),activation='relu'))\n",
        "model.add(BatchNormalization())\n",
        "model.add(MaxPooling2D(pool_size=(2,2)))\n",
        "model.add(Dropout(0.2))\n",
        "model.add(Convolution2D(36,(3,3),activation='relu'))\n",
        "model.add(BatchNormalization())\n",
        "model.add(MaxPooling2D(pool_size=(2,2)))\n",
        "model.add(Dropout(0.2))\n",
        "model.add(Flatten())\n",
        "# Hiddern layers\n",
        "model.add(Dense(62,activation='relu'))\n",
        "model.add(BatchNormalization())\n",
        "model.add(Dropout(0.1))\n",
        "model.add(Dense(32,activation='relu'))\n",
        "model.add(Dense(16,activation='relu'))\n",
        "# Output layer\n",
        "model.add(Dense(16,activation='softmax'))"
      ]
    },
    {
      "cell_type": "code",
      "execution_count": null,
      "metadata": {
        "colab": {
          "base_uri": "https://localhost:8080/"
        },
        "id": "st9UEPe4DxMB",
        "outputId": "cc8550c3-56de-417e-cab6-d0c0ecc2df44"
      },
      "outputs": [
        {
          "name": "stdout",
          "output_type": "stream",
          "text": [
            "Model: \"sequential_2\"\n",
            "_________________________________________________________________\n",
            " Layer (type)                Output Shape              Param #   \n",
            "=================================================================\n",
            " conv2d_4 (Conv2D)           (None, 118, 118, 12)      336       \n",
            "                                                                 \n",
            " batch_normalization (BatchN  (None, 118, 118, 12)     48        \n",
            " ormalization)                                                   \n",
            "                                                                 \n",
            " max_pooling2d_4 (MaxPooling  (None, 59, 59, 12)       0         \n",
            " 2D)                                                             \n",
            "                                                                 \n",
            " dropout (Dropout)           (None, 59, 59, 12)        0         \n",
            "                                                                 \n",
            " conv2d_5 (Conv2D)           (None, 57, 57, 24)        2616      \n",
            "                                                                 \n",
            " batch_normalization_1 (Batc  (None, 57, 57, 24)       96        \n",
            " hNormalization)                                                 \n",
            "                                                                 \n",
            " max_pooling2d_5 (MaxPooling  (None, 28, 28, 24)       0         \n",
            " 2D)                                                             \n",
            "                                                                 \n",
            " dropout_1 (Dropout)         (None, 28, 28, 24)        0         \n",
            "                                                                 \n",
            " conv2d_6 (Conv2D)           (None, 26, 26, 36)        7812      \n",
            "                                                                 \n",
            " batch_normalization_2 (Batc  (None, 26, 26, 36)       144       \n",
            " hNormalization)                                                 \n",
            "                                                                 \n",
            " max_pooling2d_6 (MaxPooling  (None, 13, 13, 36)       0         \n",
            " 2D)                                                             \n",
            "                                                                 \n",
            " dropout_2 (Dropout)         (None, 13, 13, 36)        0         \n",
            "                                                                 \n",
            " flatten_2 (Flatten)         (None, 6084)              0         \n",
            "                                                                 \n",
            " dense_6 (Dense)             (None, 62)                377270    \n",
            "                                                                 \n",
            " batch_normalization_3 (Batc  (None, 62)               248       \n",
            " hNormalization)                                                 \n",
            "                                                                 \n",
            " dropout_3 (Dropout)         (None, 62)                0         \n",
            "                                                                 \n",
            " dense_7 (Dense)             (None, 32)                2016      \n",
            "                                                                 \n",
            " dense_8 (Dense)             (None, 16)                528       \n",
            "                                                                 \n",
            " dense_9 (Dense)             (None, 16)                272       \n",
            "                                                                 \n",
            "=================================================================\n",
            "Total params: 391,386\n",
            "Trainable params: 391,118\n",
            "Non-trainable params: 268\n",
            "_________________________________________________________________\n"
          ]
        }
      ],
      "source": [
        "model.summary()"
      ]
    },
    {
      "cell_type": "code",
      "execution_count": null,
      "metadata": {
        "id": "yzkzlhV8D6Gi"
      },
      "outputs": [],
      "source": [
        "model.compile(optimizer='adam',loss='categorical_crossentropy',metrics=['accuracy'])"
      ]
    },
    {
      "cell_type": "code",
      "execution_count": null,
      "metadata": {
        "id": "7hGn1XDwElKo"
      },
      "outputs": [],
      "source": [
        "# Early stopping\n",
        "from tensorflow.keras.callbacks import EarlyStopping"
      ]
    },
    {
      "cell_type": "code",
      "execution_count": null,
      "metadata": {
        "id": "Onc404zaE3q-"
      },
      "outputs": [],
      "source": [
        "early_stop = EarlyStopping(monitor='accuracy',patience=8)"
      ]
    },
    {
      "cell_type": "code",
      "execution_count": null,
      "metadata": {
        "colab": {
          "base_uri": "https://localhost:8080/"
        },
        "id": "xXo2NixxES16",
        "outputId": "d2cfa667-2d2d-4417-ed0f-88edcac47fe9"
      },
      "outputs": [
        {
          "name": "stdout",
          "output_type": "stream",
          "text": [
            "Epoch 1/50\n",
            "19/19 [==============================] - 119s 6s/step - loss: 2.8212 - accuracy: 0.1200 - val_loss: 2.7938 - val_accuracy: 0.0191\n",
            "Epoch 2/50\n",
            "19/19 [==============================] - 115s 6s/step - loss: 2.6516 - accuracy: 0.1467 - val_loss: 2.8110 - val_accuracy: 0.0573\n",
            "Epoch 3/50\n",
            "19/19 [==============================] - 114s 6s/step - loss: 2.5387 - accuracy: 0.1933 - val_loss: 2.8490 - val_accuracy: 0.1338\n",
            "Epoch 4/50\n",
            "19/19 [==============================] - 74s 4s/step - loss: 2.3734 - accuracy: 0.2600 - val_loss: 2.9367 - val_accuracy: 0.1146\n",
            "Epoch 5/50\n",
            "19/19 [==============================] - 73s 4s/step - loss: 2.1782 - accuracy: 0.3400 - val_loss: 3.0779 - val_accuracy: 0.1401\n",
            "Epoch 6/50\n",
            "19/19 [==============================] - 113s 6s/step - loss: 2.0726 - accuracy: 0.3400 - val_loss: 3.0571 - val_accuracy: 0.0573\n",
            "Epoch 7/50\n",
            "19/19 [==============================] - 112s 6s/step - loss: 2.0372 - accuracy: 0.3467 - val_loss: 3.3353 - val_accuracy: 0.0573\n",
            "Epoch 8/50\n",
            "19/19 [==============================] - 70s 4s/step - loss: 2.0264 - accuracy: 0.3800 - val_loss: 3.7164 - val_accuracy: 0.1210\n",
            "Epoch 9/50\n",
            "19/19 [==============================] - 71s 4s/step - loss: 1.9973 - accuracy: 0.3600 - val_loss: 3.2474 - val_accuracy: 0.1465\n",
            "Epoch 10/50\n",
            "19/19 [==============================] - 72s 4s/step - loss: 1.8143 - accuracy: 0.4333 - val_loss: 3.2555 - val_accuracy: 0.0701\n",
            "Epoch 11/50\n",
            "19/19 [==============================] - 72s 4s/step - loss: 1.7715 - accuracy: 0.4200 - val_loss: 3.1925 - val_accuracy: 0.0637\n",
            "Epoch 12/50\n",
            "19/19 [==============================] - 72s 4s/step - loss: 1.7148 - accuracy: 0.4667 - val_loss: 3.1222 - val_accuracy: 0.0764\n",
            "Epoch 13/50\n",
            "19/19 [==============================] - 73s 4s/step - loss: 1.6127 - accuracy: 0.5067 - val_loss: 3.3971 - val_accuracy: 0.0637\n",
            "Epoch 14/50\n",
            "19/19 [==============================] - 72s 4s/step - loss: 1.6173 - accuracy: 0.4667 - val_loss: 3.3294 - val_accuracy: 0.0828\n",
            "Epoch 15/50\n",
            "19/19 [==============================] - 72s 4s/step - loss: 1.5628 - accuracy: 0.5667 - val_loss: 3.6201 - val_accuracy: 0.0573\n",
            "Epoch 16/50\n",
            "19/19 [==============================] - 72s 4s/step - loss: 1.5198 - accuracy: 0.5467 - val_loss: 3.6803 - val_accuracy: 0.0191\n",
            "Epoch 17/50\n",
            "19/19 [==============================] - 72s 4s/step - loss: 1.3629 - accuracy: 0.5867 - val_loss: 3.3106 - val_accuracy: 0.1338\n",
            "Epoch 18/50\n",
            "19/19 [==============================] - 71s 4s/step - loss: 1.3583 - accuracy: 0.5733 - val_loss: 3.3141 - val_accuracy: 0.1083\n",
            "Epoch 19/50\n",
            "19/19 [==============================] - 71s 4s/step - loss: 1.2104 - accuracy: 0.6467 - val_loss: 3.1300 - val_accuracy: 0.0828\n",
            "Epoch 20/50\n",
            "19/19 [==============================] - 72s 4s/step - loss: 1.1704 - accuracy: 0.6800 - val_loss: 3.5478 - val_accuracy: 0.1338\n",
            "Epoch 21/50\n",
            "19/19 [==============================] - 114s 6s/step - loss: 1.1612 - accuracy: 0.6467 - val_loss: 3.5611 - val_accuracy: 0.0892\n",
            "Epoch 22/50\n",
            "19/19 [==============================] - 73s 4s/step - loss: 1.1682 - accuracy: 0.6933 - val_loss: 3.6489 - val_accuracy: 0.0764\n",
            "Epoch 23/50\n",
            "19/19 [==============================] - 71s 4s/step - loss: 1.0327 - accuracy: 0.6667 - val_loss: 3.0830 - val_accuracy: 0.1274\n",
            "Epoch 24/50\n",
            "19/19 [==============================] - 73s 4s/step - loss: 1.2219 - accuracy: 0.6333 - val_loss: 3.3129 - val_accuracy: 0.1338\n",
            "Epoch 25/50\n",
            "19/19 [==============================] - 71s 4s/step - loss: 1.1150 - accuracy: 0.6733 - val_loss: 3.5774 - val_accuracy: 0.2166\n",
            "Epoch 26/50\n",
            "19/19 [==============================] - 71s 4s/step - loss: 0.9836 - accuracy: 0.7133 - val_loss: 3.2408 - val_accuracy: 0.2102\n",
            "Epoch 27/50\n",
            "19/19 [==============================] - 72s 4s/step - loss: 0.8707 - accuracy: 0.7067 - val_loss: 2.9152 - val_accuracy: 0.2420\n",
            "Epoch 28/50\n",
            "19/19 [==============================] - 70s 4s/step - loss: 0.9722 - accuracy: 0.6667 - val_loss: 2.9692 - val_accuracy: 0.1656\n",
            "Epoch 29/50\n",
            "19/19 [==============================] - 72s 4s/step - loss: 0.9535 - accuracy: 0.7333 - val_loss: 3.3048 - val_accuracy: 0.1083\n",
            "Epoch 30/50\n",
            "19/19 [==============================] - 72s 4s/step - loss: 1.0221 - accuracy: 0.7133 - val_loss: 3.4899 - val_accuracy: 0.1911\n",
            "Epoch 31/50\n",
            "19/19 [==============================] - 72s 4s/step - loss: 0.9966 - accuracy: 0.6800 - val_loss: 3.1903 - val_accuracy: 0.1783\n",
            "Epoch 32/50\n",
            "19/19 [==============================] - 71s 4s/step - loss: 0.8328 - accuracy: 0.7200 - val_loss: 3.8669 - val_accuracy: 0.1338\n",
            "Epoch 33/50\n",
            "19/19 [==============================] - 72s 4s/step - loss: 0.8526 - accuracy: 0.7333 - val_loss: 3.1587 - val_accuracy: 0.1720\n",
            "Epoch 34/50\n",
            "19/19 [==============================] - 72s 4s/step - loss: 0.7894 - accuracy: 0.7667 - val_loss: 2.8414 - val_accuracy: 0.2803\n",
            "Epoch 35/50\n",
            "19/19 [==============================] - 72s 4s/step - loss: 0.7311 - accuracy: 0.8133 - val_loss: 3.3118 - val_accuracy: 0.2293\n",
            "Epoch 36/50\n",
            "19/19 [==============================] - 72s 4s/step - loss: 0.5874 - accuracy: 0.8667 - val_loss: 3.1428 - val_accuracy: 0.2420\n",
            "Epoch 37/50\n",
            "19/19 [==============================] - 71s 4s/step - loss: 0.5989 - accuracy: 0.8133 - val_loss: 3.2478 - val_accuracy: 0.2038\n",
            "Epoch 38/50\n",
            "19/19 [==============================] - 73s 4s/step - loss: 0.5724 - accuracy: 0.8533 - val_loss: 3.5425 - val_accuracy: 0.1847\n",
            "Epoch 39/50\n",
            "19/19 [==============================] - 72s 4s/step - loss: 0.5347 - accuracy: 0.8600 - val_loss: 3.2638 - val_accuracy: 0.2420\n",
            "Epoch 40/50\n",
            "19/19 [==============================] - 73s 4s/step - loss: 0.4611 - accuracy: 0.8467 - val_loss: 3.1133 - val_accuracy: 0.2866\n",
            "Epoch 41/50\n",
            "19/19 [==============================] - 72s 4s/step - loss: 0.4732 - accuracy: 0.8600 - val_loss: 3.1697 - val_accuracy: 0.2803\n",
            "Epoch 42/50\n",
            "19/19 [==============================] - 73s 4s/step - loss: 0.4364 - accuracy: 0.9000 - val_loss: 3.3881 - val_accuracy: 0.2675\n",
            "Epoch 43/50\n",
            "19/19 [==============================] - 71s 4s/step - loss: 0.4966 - accuracy: 0.8667 - val_loss: 3.0397 - val_accuracy: 0.2293\n",
            "Epoch 44/50\n",
            "19/19 [==============================] - 72s 4s/step - loss: 0.3939 - accuracy: 0.9000 - val_loss: 3.5840 - val_accuracy: 0.2548\n",
            "Epoch 45/50\n",
            "19/19 [==============================] - 113s 6s/step - loss: 0.4149 - accuracy: 0.8933 - val_loss: 3.2786 - val_accuracy: 0.2866\n",
            "Epoch 46/50\n",
            "19/19 [==============================] - 72s 4s/step - loss: 0.5011 - accuracy: 0.8400 - val_loss: 3.4407 - val_accuracy: 0.1975\n",
            "Epoch 47/50\n",
            "19/19 [==============================] - 73s 4s/step - loss: 0.6498 - accuracy: 0.8200 - val_loss: 3.6670 - val_accuracy: 0.1975\n",
            "Epoch 48/50\n",
            "19/19 [==============================] - 72s 4s/step - loss: 0.6523 - accuracy: 0.7800 - val_loss: 3.6379 - val_accuracy: 0.2420\n",
            "Epoch 49/50\n",
            "19/19 [==============================] - 73s 4s/step - loss: 0.4388 - accuracy: 0.8667 - val_loss: 3.4987 - val_accuracy: 0.2357\n",
            "Epoch 50/50\n",
            "19/19 [==============================] - 112s 6s/step - loss: 0.7549 - accuracy: 0.7733 - val_loss: 3.7495 - val_accuracy: 0.1465\n"
          ]
        },
        {
          "data": {
            "text/plain": [
              "<keras.callbacks.History at 0x7f03d2f09a50>"
            ]
          },
          "execution_count": 74,
          "metadata": {},
          "output_type": "execute_result"
        }
      ],
      "source": [
        "model.fit(train,batch_size=8,validation_data=test,epochs=50,callbacks=early_stop)"
      ]
    },
    {
      "cell_type": "code",
      "execution_count": null,
      "metadata": {
        "colab": {
          "base_uri": "https://localhost:8080/"
        },
        "id": "q824IUv8Ern8",
        "outputId": "877d2f45-0bf7-4952-8eba-0c58df14db8a"
      },
      "outputs": [
        {
          "name": "stdout",
          "output_type": "stream",
          "text": [
            "1/1 [==============================] - 0s 20ms/step\n",
            "5\n",
            "gretit\n"
          ]
        }
      ],
      "source": [
        "# Testing 1\n",
        "img1 = image.load_img('/content/test_data/test_data/mgprob/DSC_3233.jpg',target_size=(120,120))\n",
        "img1 = image.img_to_array(img1)\n",
        "img1 = np.expand_dims(img1,axis=0)\n",
        "pred = np.argmax(model.predict(img1))\n",
        "print(pred)\n",
        "output = ['blasti','bonegl','brhkyt','cbrtsh','cmnmyn','gretit','hilpig','himbul','hsparo','indvul','jglowl','lbicrw','mgprob','rebimg','wcrsrt']\n",
        "print(output[pred])"
      ]
    },
    {
      "cell_type": "code",
      "execution_count": null,
      "metadata": {
        "colab": {
          "base_uri": "https://localhost:8080/"
        },
        "id": "ltg3vddyErbr",
        "outputId": "6fe1b406-3108-47e3-d322-07988ca8d30c"
      },
      "outputs": [
        {
          "name": "stdout",
          "output_type": "stream",
          "text": [
            "1/1 [==============================] - 0s 20ms/step\n",
            "5\n",
            "gretit\n"
          ]
        }
      ],
      "source": [
        "# Testing 3\n",
        "img3 = image.load_img('/content/100_5756.JPG',target_size=(120,120))\n",
        "img3 = image.img_to_array(img3)\n",
        "img3 = np.expand_dims(img3,axis=0)\n",
        "pred = np.argmax(model.predict(img3))\n",
        "output = ['blasti','bonegl','brhkyt','cbrtsh','cmnmyn','gretit','hilpig','himbul','hsparo','indvul','jglowl','lbicrw','mgprob','rebimg','wcrsrt']\n",
        "\n",
        "print(pred)\n",
        "\n",
        "print(output[pred])"
      ]
    },
    {
      "cell_type": "code",
      "execution_count": null,
      "metadata": {
        "colab": {
          "base_uri": "https://localhost:8080/"
        },
        "id": "_-LTZaVAErOo",
        "outputId": "2c7452b5-ed86-4f4f-af2b-c7082fe9c41d"
      },
      "outputs": [
        {
          "name": "stdout",
          "output_type": "stream",
          "text": [
            "1/1 [==============================] - 0s 20ms/step\n",
            "5\n",
            "gretit\n"
          ]
        }
      ],
      "source": [
        "# Testing 5\n",
        "img5 = image.load_img('/content/100_5573.JPG',target_size=(120,120))\n",
        "img5 = image.img_to_array(img5)\n",
        "img5 = np.expand_dims(img5,axis=0)\n",
        "pred = np.argmax(model.predict(img5))\n",
        "print(pred)\n",
        "output = ['blasti','bonegl','brhkyt','cbrtsh','cmnmyn','gretit','hilpig','himbul','hsparo','indvul','jglowl','lbicrw','mgprob','rebimg','wcrsrt']\n",
        "print(output[pred])"
      ]
    },
    {
      "cell_type": "code",
      "execution_count": null,
      "metadata": {
        "colab": {
          "base_uri": "https://localhost:8080/"
        },
        "id": "QbACXcC2ErBt",
        "outputId": "d84a584c-f34d-49f5-b6ef-0a1ef97fbf8e"
      },
      "outputs": [
        {
          "name": "stdout",
          "output_type": "stream",
          "text": [
            "1/1 [==============================] - 0s 23ms/step\n",
            "5\n",
            "gretit\n"
          ]
        }
      ],
      "source": [
        "img6 = image.load_img('/content/100_4917.JPG',target_size=(120,120))\n",
        "img6 = image.img_to_array(img6)\n",
        "img6 = np.expand_dims(img6,axis=0)\n",
        "pred = np.argmax(model.predict(img6))\n",
        "print(pred)\n",
        "output = ['blasti','bonegl','brhkyt','cbrtsh','cmnmyn','gretit','hilpig','himbul','hsparo','indvul','jglowl','lbicrw','mgprob','rebimg','wcrsrt']\n",
        "print(output[pred])"
      ]
    },
    {
      "cell_type": "code",
      "execution_count": null,
      "metadata": {
        "colab": {
          "base_uri": "https://localhost:8080/"
        },
        "id": "nbQK1sApEq0r",
        "outputId": "4cc28e9d-e59e-4ebb-b9b1-5497b6aae52c"
      },
      "outputs": [
        {
          "name": "stdout",
          "output_type": "stream",
          "text": [
            "1/1 [==============================] - 0s 25ms/step\n",
            "5\n",
            "gretit\n"
          ]
        }
      ],
      "source": [
        "img7 = image.load_img('/content/100_5811.JPG',target_size=(120,120))\n",
        "img7 = image.img_to_array(img7)\n",
        "img7 = np.expand_dims(img7,axis=0)\n",
        "pred = np.argmax(model.predict(img7))\n",
        "print(pred)\n",
        "output = ['blasti','bonegl','brhkyt','cbrtsh','cmnmyn','gretit','hilpig','himbul','hsparo','indvul','jglowl','lbicrw','mgprob','rebimg','wcrsrt']\n",
        "print(output[pred])"
      ]
    },
    {
      "cell_type": "code",
      "execution_count": null,
      "metadata": {
        "colab": {
          "base_uri": "https://localhost:8080/"
        },
        "id": "HukLgretEqnx",
        "outputId": "c46f64f3-8e08-4811-ab53-2e613aaa77b8"
      },
      "outputs": [
        {
          "name": "stdout",
          "output_type": "stream",
          "text": [
            "1/1 [==============================] - 0s 25ms/step\n",
            "5\n",
            "gretit\n"
          ]
        }
      ],
      "source": [
        "img8 = image.load_img('/content/IMG_5460.JPG',target_size=(120,120))\n",
        "img8 = image.img_to_array(img8)\n",
        "img8 = np.expand_dims(img8,axis=0)\n",
        "pred = np.argmax(model.predict(img8))\n",
        "print(pred)\n",
        "output = ['blasti','bonegl','brhkyt','cbrtsh','cmnmyn','gretit','hilpig','himbul','hsparo','indvul','jglowl','lbicrw','mgprob','rebimg','wcrsrt']\n",
        "print(output[pred])"
      ]
    },
    {
      "cell_type": "code",
      "execution_count": null,
      "metadata": {
        "colab": {
          "base_uri": "https://localhost:8080/"
        },
        "id": "uF2FDeVnEqY6",
        "outputId": "fee85e25-9bf4-40d9-8825-94eb192ff671"
      },
      "outputs": [
        {
          "name": "stdout",
          "output_type": "stream",
          "text": [
            "1/1 [==============================] - 0s 25ms/step\n",
            "5\n",
            "gretit\n"
          ]
        }
      ],
      "source": [
        "img9 = image.load_img('/content/DSC_2443.jpg',target_size=(120,120))\n",
        "img9 = image.img_to_array(img9)\n",
        "img9 = np.expand_dims(img9,axis=0)\n",
        "pred = np.argmax(model.predict(img9))\n",
        "print(pred)\n",
        "output = ['blasti','bonegl','brhkyt','cbrtsh','cmnmyn','gretit','hilpig','himbul','hsparo','indvul','jglowl','lbicrw','mgprob','rebimg','wcrsrt']\n",
        "print(output[pred])"
      ]
    },
    {
      "cell_type": "code",
      "execution_count": null,
      "metadata": {
        "colab": {
          "base_uri": "https://localhost:8080/"
        },
        "id": "q2mJe5AxEpxL",
        "outputId": "e6b7abc0-0fa3-483f-cc98-a6685d9da7e9"
      },
      "outputs": [
        {
          "name": "stdout",
          "output_type": "stream",
          "text": [
            "1/1 [==============================] - 0s 21ms/step\n",
            "5\n",
            "gretit\n"
          ]
        }
      ],
      "source": [
        "img10 = image.load_img('/content/DSC_6400.jpg',target_size=(120,120))\n",
        "img10 = image.img_to_array(img10)\n",
        "img10 = np.expand_dims(img10,axis=0)\n",
        "pred = np.argmax(model.predict(img10))\n",
        "print(pred)\n",
        "output = ['blasti','bonegl','brhkyt','cbrtsh','cmnmyn','gretit','hilpig','himbul','hsparo','indvul','jglowl','lbicrw','mgprob','rebimg','wcrsrt']\n",
        "print(output[pred])"
      ]
    },
    {
      "cell_type": "code",
      "execution_count": null,
      "metadata": {
        "colab": {
          "base_uri": "https://localhost:8080/"
        },
        "id": "p1667QuZEpfb",
        "outputId": "66c9b1a5-2a62-4bed-f326-d77a252c6be6"
      },
      "outputs": [
        {
          "name": "stdout",
          "output_type": "stream",
          "text": [
            "1/1 [==============================] - 0s 24ms/step\n",
            "5\n",
            "gretit\n"
          ]
        }
      ],
      "source": [
        "img11 = image.load_img('/content/DSC_6406.jpg',target_size=(120,120))\n",
        "img11 = image.img_to_array(img11)\n",
        "img11 = np.expand_dims(img11,axis=0)\n",
        "pred = np.argmax(model.predict(img11))\n",
        "print(pred)\n",
        "output = ['blasti','bonegl','brhkyt','cbrtsh','cmnmyn','gretit','hilpig','himbul','hsparo','indvul','jglowl','lbicrw','mgprob','rebimg','wcrsrt']\n",
        "print(output[pred])"
      ]
    },
    {
      "cell_type": "code",
      "execution_count": null,
      "metadata": {
        "colab": {
          "base_uri": "https://localhost:8080/"
        },
        "id": "b0Ev7nUZEo-X",
        "outputId": "f43d397b-f228-4bf3-9847-6017d5c10076"
      },
      "outputs": [
        {
          "name": "stdout",
          "output_type": "stream",
          "text": [
            "1/1 [==============================] - 0s 20ms/step\n",
            "2\n",
            "brhkyt\n"
          ]
        }
      ],
      "source": [
        "img12 = image.load_img('/content/DSC_6274.jpg',target_size=(120,120))\n",
        "img12 = image.img_to_array(img12)\n",
        "img12 = np.expand_dims(img12,axis=0)\n",
        "pred = np.argmax(model.predict(img12))\n",
        "print(pred)\n",
        "output = ['blasti','bonegl','brhkyt','cbrtsh','cmnmyn','gretit','hilpig','himbul','hsparo','indvul','jglowl','lbicrw','mgprob','rebimg','wcrsrt']\n",
        "print(output[pred])"
      ]
    },
    {
      "cell_type": "code",
      "execution_count": null,
      "metadata": {
        "colab": {
          "base_uri": "https://localhost:8080/"
        },
        "id": "qXsHhhYZVlxo",
        "outputId": "c4ace9b2-5747-4586-cc54-e9cd9024ebce"
      },
      "outputs": [
        {
          "name": "stdout",
          "output_type": "stream",
          "text": [
            "1/1 [==============================] - 0s 26ms/step\n",
            "5\n",
            "gretit\n"
          ]
        }
      ],
      "source": [
        "img13 = image.load_img('/content/100_5590.JPG',target_size=(120,120))\n",
        "img13 = image.img_to_array(img13)\n",
        "img13 = np.expand_dims(img13,axis=0)\n",
        "pred = np.argmax(model.predict(img13))\n",
        "print(pred)\n",
        "output = ['blasti','bonegl','brhkyt','cbrtsh','cmnmyn','gretit','hilpig','himbul','hsparo','indvul','jglowl','lbicrw','mgprob','rebimg','wcrsrt']\n",
        "print(output[pred])"
      ]
    },
    {
      "cell_type": "code",
      "execution_count": null,
      "metadata": {
        "colab": {
          "base_uri": "https://localhost:8080/"
        },
        "id": "A4EzLfEMVllG",
        "outputId": "7ed93280-f2d1-4819-af10-4caad3488364"
      },
      "outputs": [
        {
          "name": "stdout",
          "output_type": "stream",
          "text": [
            "1/1 [==============================] - 0s 24ms/step\n",
            "5\n",
            "gretit\n"
          ]
        }
      ],
      "source": [
        "img14 = image.load_img('/content/100_5041.JPG',target_size=(120,120))\n",
        "img14 = image.img_to_array(img14)\n",
        "img14 = np.expand_dims(img14,axis=0)\n",
        "pred = np.argmax(model.predict(img14))\n",
        "print(pred)\n",
        "output = ['blasti','bonegl','brhkyt','cbrtsh','cmnmyn','gretit','hilpig','himbul','hsparo','indvul','jglowl','lbicrw','mgprob','rebimg','wcrsrt']\n",
        "print(output[pred])"
      ]
    },
    {
      "cell_type": "code",
      "execution_count": null,
      "metadata": {
        "colab": {
          "base_uri": "https://localhost:8080/"
        },
        "id": "KN-XhXklVlVx",
        "outputId": "a1be04c9-c2fa-4ce5-e82b-7e71dafff3e3"
      },
      "outputs": [
        {
          "name": "stdout",
          "output_type": "stream",
          "text": [
            "1/1 [==============================] - 0s 34ms/step\n",
            "5\n",
            "gretit\n"
          ]
        }
      ],
      "source": [
        "img15 = image.load_img('/content/DSC_6354.jpg',target_size=(120,120))\n",
        "img15 = image.img_to_array(img15)\n",
        "img15 = np.expand_dims(img15,axis=0)\n",
        "pred = np.argmax(model.predict(img15))\n",
        "print(pred)\n",
        "output = ['blasti','bonegl','brhkyt','cbrtsh','cmnmyn','gretit','hilpig','himbul','hsparo','indvul','jglowl','lbicrw','mgprob','rebimg','wcrsrt']\n",
        "print(output[pred])"
      ]
    },
    {
      "cell_type": "code",
      "execution_count": null,
      "metadata": {
        "colab": {
          "base_uri": "https://localhost:8080/"
        },
        "id": "ehbYUX7IV2Sa",
        "outputId": "cfd7398e-812a-4b1d-c757-5b74ebad5899"
      },
      "outputs": [
        {
          "name": "stdout",
          "output_type": "stream",
          "text": [
            "1/1 [==============================] - 0s 23ms/step\n",
            "5\n",
            "gretit\n"
          ]
        }
      ],
      "source": [
        "img16 = image.load_img('/content/100_5029.JPG',target_size=(120,120))\n",
        "img16 = image.img_to_array(img16)\n",
        "img16 = np.expand_dims(img16,axis=0)\n",
        "pred = np.argmax(model.predict(img16))\n",
        "print(pred)\n",
        "output = ['blasti','bonegl','brhkyt','cbrtsh','cmnmyn','gretit','hilpig','himbul','hsparo','indvul','jglowl','lbicrw','mgprob','rebimg','wcrsrt']\n",
        "print(output[pred])"
      ]
    }
  ],
  "metadata": {
    "colab": {
      "gpuType": "T4",
      "provenance": []
    },
    "kernelspec": {
      "display_name": "Python 3",
      "name": "python3"
    },
    "language_info": {
      "name": "python"
    }
  },
  "nbformat": 4,
  "nbformat_minor": 0
}
